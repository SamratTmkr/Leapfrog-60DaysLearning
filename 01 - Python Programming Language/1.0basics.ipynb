{
 "cells": [
  {
   "cell_type": "markdown",
   "id": "9ad38248",
   "metadata": {},
   "source": [
    "## Syntax and Semantics in Python\n",
    "\n",
    "### Outline:\n",
    "\n",
    "#### Single line comments and multiline comments\n",
    "#### Definition of Syntax and Semantics\n",
    "#### Basic Syntax rules in Python\n",
    "#### Understanding Semantics in Python\n",
    "#### Common Syntax Errors and How to Avoid Them\n",
    "\n"
   ]
  },
  {
   "cell_type": "code",
   "execution_count": null,
   "id": "0d55e384",
   "metadata": {},
   "outputs": [],
   "source": [
    "# Single line comment\n",
    "'''MultiLine Comment'''"
   ]
  },
  {
   "cell_type": "code",
   "execution_count": 1,
   "id": "6c82171c",
   "metadata": {},
   "outputs": [
    {
     "name": "stdout",
     "output_type": "stream",
     "text": [
      "Samrat\n",
      "Tamrakar\n"
     ]
    }
   ],
   "source": [
    "#Basic Syntax Rules in Python\n",
    "# Python is case sensitive\n",
    "name=\"Samrat\"\n",
    "Name=\"Tamrakar\"\n",
    "print(name)\n",
    "print(Name)"
   ]
  },
  {
   "cell_type": "markdown",
   "id": "4fffdc5a",
   "metadata": {},
   "source": [
    "## Indendation\n",
    "##### indentation refers to the spaces at the beginning of a code line. Where in other programming languages the indentation in code is for readability only, the indentation in Python is very important. Python uses indentation to indicate a block of code."
   ]
  },
  {
   "cell_type": "code",
   "execution_count": 2,
   "id": "e9fca0ee",
   "metadata": {},
   "outputs": [
    {
     "name": "stdout",
     "output_type": "stream",
     "text": [
      "32\n"
     ]
    }
   ],
   "source": [
    "# python uses indendation to define block of codes\n",
    "age=32\n",
    "if age>30:\n",
    "    print(age)"
   ]
  },
  {
   "cell_type": "code",
   "execution_count": null,
   "id": "738cb999",
   "metadata": {},
   "outputs": [
    {
     "name": "stdout",
     "output_type": "stream",
     "text": [
      "22\n"
     ]
    }
   ],
   "source": [
    "# Line Continuation\n",
    "# use a backslash (\\) to continue a statement to the next line\n",
    "total=1+2+3+4+\\\n",
    "3+4+5\n",
    "print(total)"
   ]
  },
  {
   "cell_type": "code",
   "execution_count": 4,
   "id": "c795c32f",
   "metadata": {},
   "outputs": [
    {
     "name": "stdout",
     "output_type": "stream",
     "text": [
      "15\n"
     ]
    }
   ],
   "source": [
    "# Multiple Statements on a single Line\n",
    "x=5;y=10;z=x+y\n",
    "print(z)"
   ]
  },
  {
   "cell_type": "code",
   "execution_count": null,
   "id": "cf04d362",
   "metadata": {},
   "outputs": [],
   "source": [
    "# Semantics In Python\n",
    "# Variable assignment\n",
    "age=32 #age is an integer\n",
    "name = \"Samrat\" # name is an string\n"
   ]
  },
  {
   "cell_type": "code",
   "execution_count": null,
   "id": "12d3bf01",
   "metadata": {},
   "outputs": [
    {
     "data": {
      "text/plain": [
       "int"
      ]
     },
     "execution_count": 5,
     "metadata": {},
     "output_type": "execute_result"
    }
   ],
   "source": [
    "\n",
    "type(age)"
   ]
  },
  {
   "cell_type": "code",
   "execution_count": 6,
   "id": "76386752",
   "metadata": {},
   "outputs": [
    {
     "data": {
      "text/plain": [
       "str"
      ]
     },
     "execution_count": 6,
     "metadata": {},
     "output_type": "execute_result"
    }
   ],
   "source": [
    "type(name)"
   ]
  },
  {
   "cell_type": "code",
   "execution_count": 7,
   "id": "4847a584",
   "metadata": {},
   "outputs": [
    {
     "name": "stdout",
     "output_type": "stream",
     "text": [
      "<class 'int'>\n",
      "<class 'str'>\n"
     ]
    }
   ],
   "source": [
    "# Type infernece\n",
    "variable = 10\n",
    "print(type(variable))\n",
    "variable='Samrat'\n",
    "print(type(variable))"
   ]
  },
  {
   "cell_type": "code",
   "execution_count": 10,
   "id": "24bf71c5",
   "metadata": {},
   "outputs": [
    {
     "ename": "IndentationError",
     "evalue": "expected an indented block after 'if' statement on line 2 (445505833.py, line 3)",
     "output_type": "error",
     "traceback": [
      "\u001b[1;36m  Cell \u001b[1;32mIn[10], line 3\u001b[1;36m\u001b[0m\n\u001b[1;33m    print(\"This will cause an error\")  # Missing indentation\u001b[0m\n\u001b[1;37m    ^\u001b[0m\n\u001b[1;31mIndentationError\u001b[0m\u001b[1;31m:\u001b[0m expected an indented block after 'if' statement on line 2\n"
     ]
    }
   ],
   "source": [
    "# Indentation error\n",
    "if True:\n",
    "print(\"This will cause an error\")  # Missing indentation"
   ]
  },
  {
   "cell_type": "code",
   "execution_count": 8,
   "id": "80854877",
   "metadata": {},
   "outputs": [
    {
     "name": "stdout",
     "output_type": "stream",
     "text": [
      "Correct Indentation\n",
      "This will print\n",
      "Outside the if block\n"
     ]
    }
   ],
   "source": [
    "# Code examples of indentation\n",
    "if True:\n",
    "    print(\"Correct Indentation\")\n",
    "    if False:\n",
    "        print(\"This wont print\")\n",
    "    print(\"This will print\")\n",
    "print(\"Outside the if block\")"
   ]
  }
 ],
 "metadata": {
  "kernelspec": {
   "display_name": "Python 3",
   "language": "python",
   "name": "python3"
  },
  "language_info": {
   "codemirror_mode": {
    "name": "ipython",
    "version": 3
   },
   "file_extension": ".py",
   "mimetype": "text/x-python",
   "name": "python",
   "nbconvert_exporter": "python",
   "pygments_lexer": "ipython3",
   "version": "3.13.0"
  }
 },
 "nbformat": 4,
 "nbformat_minor": 5
}
