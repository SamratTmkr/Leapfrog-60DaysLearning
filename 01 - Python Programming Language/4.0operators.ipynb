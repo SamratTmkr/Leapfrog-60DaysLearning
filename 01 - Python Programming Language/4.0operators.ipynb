{
 "cells": [
  {
   "cell_type": "markdown",
   "id": "3f020b61",
   "metadata": {},
   "source": [
    "# **Operators in Python**\n",
    "\n",
    "Operators are special symbols or keywords used to perform operations on values or variables. Python has a wide variety of operators, each serving a specific purpose, and they are categorized into different types based on the type of operation they perform."
   ]
  },
  {
   "cell_type": "markdown",
   "id": "484c9af8",
   "metadata": {},
   "source": [
    "## **1. Arithmetic Operators**\n",
    "These operators are used to perform basic arithmetic operations such as addition, subtraction, multiplication, etc.\n",
    "\n",
    "- **`+` (Addition)**: Adds two operands.\n",
    "- **`-` (Subtraction)**: Subtracts the right operand from the left operand.\n",
    "- **`*` (Multiplication)**: Multiplies two operands.\n",
    "- **`/` (Division)**: Divides the left operand by the right operand (returns a floating-point result).\n",
    "- **`//` (Floor Division)**: Divides the left operand by the right operand and returns the quotient as an integer (rounded down).\n",
    "- **`%` (Modulus)**: Returns the remainder when the left operand is divided by the right operand.\n",
    "- **`**` (Exponentiation)**: Performs exponential (power) operation."
   ]
  },
  {
   "cell_type": "code",
   "execution_count": 1,
   "id": "1046d341",
   "metadata": {},
   "outputs": [
    {
     "name": "stdout",
     "output_type": "stream",
     "text": [
      "8\n",
      "2\n",
      "15\n",
      "1.6666666666666667\n",
      "1\n",
      "2\n",
      "125\n"
     ]
    }
   ],
   "source": [
    "print(5 + 3)   # Addition\n",
    "print(5 - 3)   # Subtraction\n",
    "print(5 * 3)   # Multiplication\n",
    "print(5 / 3)   # Division Q\n",
    "print(5 // 3)  # Floor Division  \n",
    "print(5 % 3)   # Modulus R\n",
    "print(5 ** 3)  # Exponentiation"
   ]
  },
  {
   "cell_type": "markdown",
   "id": "d99c115b",
   "metadata": {},
   "source": [
    "## **2. Comparison Operators**\n",
    "These operators are used to compare two values. They return `True` or `False` depending on whether the comparison is true.\n",
    "\n",
    "- **`==` (Equal to)**\n",
    "- **`!=` (Not equal to)**\n",
    "- **`>` (Greater than)**\n",
    "- **`<` (Less than)**\n",
    "- **`>=` (Greater than or equal to)**\n",
    "- **`<=` (Less than or equal to)**"
   ]
  },
  {
   "cell_type": "code",
   "execution_count": 2,
   "id": "5fb50cc4",
   "metadata": {},
   "outputs": [
    {
     "name": "stdout",
     "output_type": "stream",
     "text": [
      "True\n",
      "True\n",
      "True\n",
      "False\n",
      "True\n",
      "False\n"
     ]
    }
   ],
   "source": [
    "print(5 == 5)  # Equal to\n",
    "print(5 != 3)  # Not equal to\n",
    "print(5 > 3)   # Greater than\n",
    "print(5 < 3)   # Less than\n",
    "print(5 >= 5)  # Greater than or equal to\n",
    "print(5 <= 3)  # Less than or equal to"
   ]
  },
  {
   "cell_type": "markdown",
   "id": "22fb4939",
   "metadata": {},
   "source": [
    "## **3. Logical Operators**\n",
    "Logical operators are used to combine conditional statements and are mainly used in boolean expressions.\n",
    "\n",
    "- **`and`**: Returns `True` if both operands are true.\n",
    "- **`or`**: Returns `True` if at least one of the operands is true.\n",
    "- **`not`**: Reverses the boolean value of the operand."
   ]
  },
  {
   "cell_type": "code",
   "execution_count": 3,
   "id": "aa8fc4b5",
   "metadata": {},
   "outputs": [
    {
     "name": "stdout",
     "output_type": "stream",
     "text": [
      "False\n",
      "True\n",
      "False\n"
     ]
    }
   ],
   "source": [
    "a=True\n",
    "b=False\n",
    "\n",
    "print(a and b)  # Logical AND\n",
    "print(a or b )   # Logical OR\n",
    "print(not a)      # Logical NOT"
   ]
  },
  {
   "cell_type": "markdown",
   "id": "75462bac",
   "metadata": {},
   "source": [
    "## **4. Assignment Operators**\n",
    "Assignment operators are used to assign values to variables.\n",
    "\n",
    "- **`=` (Simple Assignment)**\n",
    "- **`+=` (Addition Assignment)**\n",
    "- **`-=` (Subtraction Assignment)**\n",
    "- **`*=` (Multiplication Assignment)**\n",
    "- **`/=` (Division Assignment)**\n",
    "- **`//=` (Floor Division Assignment)**\n",
    "- **`%=` (Modulus Assignment)**\n",
    "- **`**=` (Exponentiation Assignment)**"
   ]
  },
  {
   "cell_type": "code",
   "execution_count": 4,
   "id": "527abe35",
   "metadata": {},
   "outputs": [
    {
     "name": "stdout",
     "output_type": "stream",
     "text": [
      "8\n",
      "6\n",
      "24\n"
     ]
    }
   ],
   "source": [
    "x = 5\n",
    "x += 3 \n",
    "print(x)  # Addition Assignment\n",
    "x -= 2\n",
    "print(x)  # Subtraction Assignment\n",
    "x *= 4\n",
    "print(x)  # Multiplication Assignment"
   ]
  },
  {
   "cell_type": "markdown",
   "id": "0e57bff9",
   "metadata": {},
   "source": [
    "### 6. Python Special Operators\n",
    "\n",
    "Python language offers some special types of operators like the **identity operator** and the **membership operator**. They are described below with examples.\n"
   ]
  },
  {
   "cell_type": "markdown",
   "id": "9f73f825",
   "metadata": {},
   "source": [
    "#### Identity Operators\n",
    "\n",
    "In Python, `is` and `is not` are used to check if two values are located at the same memory location.\n",
    "\n",
    "It's important to note that having two variables with equal values doesn't necessarily mean they are identical.\n",
    "\n",
    "| Operator | Meaning                                                       | Example       |\n",
    "|----------|---------------------------------------------------------------|---------------|\n",
    "| `is`     | True if the operands are identical (refer to the same object) | `x is True`   |\n",
    "| `is not` | True if the operands are not identical                        | `x is not True` |\n"
   ]
  },
  {
   "cell_type": "code",
   "execution_count": null,
   "id": "4d1f0c8d",
   "metadata": {},
   "outputs": [
    {
     "name": "stdout",
     "output_type": "stream",
     "text": [
      "False\n",
      "True\n",
      "False\n"
     ]
    }
   ],
   "source": [
    "x1 = 5\n",
    "y1 = 5\n",
    "x2 = 'Hello'\n",
    "y2 = 'Hello'\n",
    "x3 = [1,2,3]\n",
    "y3 = [1,2,3]\n",
    "\n",
    "print(x1 is not y1)  # prints False\n",
    "\n",
    "print(x2 is y2)  # prints True\n",
    "\n",
    "print(x3 is y3)  # prints False\n",
    "\n",
    "# Here, we see that x1 and y1 are integers of the same values, \n",
    "# so they are equal as well as identical.\n",
    "#  The same is the case with x2 and y2 (strings).\n",
    "# But x3 and y3 are lists.\n",
    "#  They are equal but not identical. \n",
    "# It is because the interpreter locates them separately in memory, although they are equal."
   ]
  },
  {
   "cell_type": "markdown",
   "id": "618790ed",
   "metadata": {},
   "source": [
    "#### Membership Operators\n",
    "\n",
    "In Python, `in` and `not in` are the membership operators. They are used to test whether a value or variable is found in a sequence (string, list, tuple, set, and dictionary).\n",
    "\n",
    "> Note: In a dictionary, we can only test for the presence of a **key**, not a **value**.\n",
    "\n",
    "| Operator   | Meaning                                                  | Example       |\n",
    "|------------|----------------------------------------------------------|---------------|\n",
    "| `in`       | True if value/variable is found in the sequence          | `5 in x`      |\n",
    "| `not in`   | True if value/variable is not found in the sequence      | `5 not in x`  |\n"
   ]
  },
  {
   "cell_type": "code",
   "execution_count": null,
   "id": "f624338c",
   "metadata": {},
   "outputs": [
    {
     "name": "stdout",
     "output_type": "stream",
     "text": [
      "True\n",
      "True\n",
      "True\n",
      "False\n"
     ]
    }
   ],
   "source": [
    "message = 'Hello world'\n",
    "dict1 = {1:'a', 2:'b'}\n",
    "\n",
    "# check if 'H' is present in message string\n",
    "print('H' in message)  # prints True\n",
    "\n",
    "# check if 'hello' is present in message string\n",
    "print('hello' not in message)  # prints True\n",
    "\n",
    "# check if '1' key is present in dict1\n",
    "print(1 in dict1)  # prints True\n",
    "\n",
    "# check if 'a' key is present in dict1\n",
    "print('a' in dict1)  # prints False\n",
    "\n",
    "# Here, 'H' is in message, but 'hello' is not present in message (remember, Python is case-sensitive).\n",
    "\n",
    "# Similarly, 1 is key, and 'a' is the value in dictionary dict1. Hence, 'a' in y returns False."
   ]
  }
 ],
 "metadata": {
  "kernelspec": {
   "display_name": "Python 3",
   "language": "python",
   "name": "python3"
  },
  "language_info": {
   "codemirror_mode": {
    "name": "ipython",
    "version": 3
   },
   "file_extension": ".py",
   "mimetype": "text/x-python",
   "name": "python",
   "nbconvert_exporter": "python",
   "pygments_lexer": "ipython3",
   "version": "3.13.0"
  }
 },
 "nbformat": 4,
 "nbformat_minor": 5
}
