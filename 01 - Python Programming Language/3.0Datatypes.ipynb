{
 "cells": [
  {
   "cell_type": "markdown",
   "id": "5180cf3f",
   "metadata": {},
   "source": [
    "## DataTypes\n",
    "## 1. Definition:\n",
    "Data types are a classification of data which tell the compiler or interpreter how the programmer intends to use the data.\n",
    "They determine the type of operations that can be performed on the data, the values that the data can take, and the amount of memory needed to store the data."
   ]
  },
  {
   "cell_type": "markdown",
   "id": "1ebbde37",
   "metadata": {},
   "source": [
    "# 2. Importance of Data Types in Programming\n",
    "\n",
    "## Explanation:\n",
    "- Data types ensure that data is stored in an efficient way.\n",
    "- They help in performing correct operations on data.\n",
    "- Proper use of data types can prevent errors and bugs in the program.\n",
    "\n",
    "## Outline:\n",
    "1. Introduction to Data Types\n",
    "2. Importance of Data Types in Programming\n",
    "3. Basic Data Types\n",
    "   - Integers\n",
    "   - Floating-point numbers\n",
    "   - Strings\n",
    "   - Booleans\n",
    "4. Advanced Data Types (not covered in this file)\n",
    "   - Lists\n",
    "   - Tuples\n",
    "   - Sets\n",
    "   - Dictionaries\n",
    "\n",
    "5. Type Conversion\n",
    "6. Practical Examples (not covered in this file)\n"
   ]
  },
  {
   "cell_type": "code",
   "execution_count": 1,
   "id": "94753dcc",
   "metadata": {},
   "outputs": [
    {
     "data": {
      "text/plain": [
       "int"
      ]
     },
     "execution_count": 1,
     "metadata": {},
     "output_type": "execute_result"
    }
   ],
   "source": [
    "#  Integers Example\n",
    "age = 35\n",
    "type(age)\n"
   ]
  },
  {
   "cell_type": "code",
   "execution_count": 2,
   "id": "e60a53f2",
   "metadata": {},
   "outputs": [
    {
     "name": "stdout",
     "output_type": "stream",
     "text": [
      "5.11\n",
      "<class 'float'>\n"
     ]
    }
   ],
   "source": [
    "# floating point datatype\n",
    "height=5.11\n",
    "print(height)\n",
    "print(type(height))"
   ]
  },
  {
   "cell_type": "code",
   "execution_count": 3,
   "id": "cf3f6444",
   "metadata": {},
   "outputs": [
    {
     "name": "stdout",
     "output_type": "stream",
     "text": [
      "Samrat\n",
      "<class 'str'>\n"
     ]
    }
   ],
   "source": [
    "# string datatype example\n",
    "name='Samrat'\n",
    "print(name)\n",
    "print(type(name))"
   ]
  },
  {
   "cell_type": "code",
   "execution_count": 4,
   "id": "a0a6d7a0",
   "metadata": {},
   "outputs": [
    {
     "data": {
      "text/plain": [
       "bool"
      ]
     },
     "execution_count": 4,
     "metadata": {},
     "output_type": "execute_result"
    }
   ],
   "source": [
    "# boolean datatype\n",
    "is_true=True\n",
    "type(is_true)"
   ]
  },
  {
   "cell_type": "code",
   "execution_count": 7,
   "id": "b58ce736",
   "metadata": {},
   "outputs": [
    {
     "data": {
      "text/plain": [
       "False"
      ]
     },
     "execution_count": 7,
     "metadata": {},
     "output_type": "execute_result"
    }
   ],
   "source": [
    "\"\"\" bool(0) → False\n",
    "bool(\"\") → False\n",
    "bool([]) → False\n",
    "bool(None) → False   \"\"\"\n",
    "bool()"
   ]
  },
  {
   "cell_type": "code",
   "execution_count": 8,
   "id": "d2ebdfe9",
   "metadata": {},
   "outputs": [
    {
     "data": {
      "text/plain": [
       "bool"
      ]
     },
     "execution_count": 8,
     "metadata": {},
     "output_type": "execute_result"
    }
   ],
   "source": [
    "a=10\n",
    "b=10\n",
    "type(a==b)"
   ]
  },
  {
   "cell_type": "code",
   "execution_count": 9,
   "id": "efa33944",
   "metadata": {},
   "outputs": [
    {
     "ename": "TypeError",
     "evalue": "can only concatenate str (not \"int\") to str",
     "output_type": "error",
     "traceback": [
      "\u001b[1;31m---------------------------------------------------------------------------\u001b[0m",
      "\u001b[1;31mTypeError\u001b[0m                                 Traceback (most recent call last)",
      "Cell \u001b[1;32mIn[9], line 3\u001b[0m\n\u001b[0;32m      1\u001b[0m \u001b[38;5;66;03m# Common errors\u001b[39;00m\n\u001b[1;32m----> 3\u001b[0m result \u001b[38;5;241m=\u001b[39m \u001b[38;5;124;43m\"\u001b[39;49m\u001b[38;5;124;43mHello\u001b[39;49m\u001b[38;5;124;43m\"\u001b[39;49m\u001b[43m \u001b[49m\u001b[38;5;241;43m+\u001b[39;49m\u001b[43m \u001b[49m\u001b[38;5;241;43m5\u001b[39;49m\n",
      "\u001b[1;31mTypeError\u001b[0m: can only concatenate str (not \"int\") to str"
     ]
    }
   ],
   "source": [
    "# Common errors\n",
    "\n",
    "result = \"Hello\" + 5"
   ]
  },
  {
   "cell_type": "code",
   "execution_count": null,
   "id": "0bb567a0",
   "metadata": {},
   "outputs": [
    {
     "name": "stdout",
     "output_type": "stream",
     "text": [
      "hello5\n"
     ]
    }
   ],
   "source": [
    "# solution (explicit conversion)\n",
    "result = \"hello\" + str(5)\n",
    "print(result)"
   ]
  },
  {
   "cell_type": "markdown",
   "id": "b0a54849",
   "metadata": {},
   "source": [
    "# Type Conversion Basics\n",
    "\n",
    "There are two main types of conversion:\n",
    "\n",
    "- **Implicit Conversion** – done automatically by Python.\n",
    "- **Explicit Conversion** – done manually by the programmer."
   ]
  },
  {
   "cell_type": "code",
   "execution_count": 11,
   "id": "b6eae4b6",
   "metadata": {},
   "outputs": [
    {
     "name": "stdout",
     "output_type": "stream",
     "text": [
      "7.0\n",
      "<class 'float'>\n"
     ]
    }
   ],
   "source": [
    "\n",
    "# Python automatically converts one data type to another when it makes sense.\n",
    "\n",
    "x = 5       # int\n",
    "y = 2.0     # float\n",
    "result = x + y  # int + float = float\n",
    "print(result)       \n",
    "print(type(result))\n"
   ]
  },
  {
   "cell_type": "markdown",
   "id": "69e1c2ac",
   "metadata": {},
   "source": [
    "# 2. Explicit Conversion\n",
    "\n",
    "You tell Python to change the type using built-in functions:\n",
    "\n",
    "| Function | Converts to... |\n",
    "|----------|----------------|\n",
    "| int()    | Integer        |\n",
    "| float()  | Floating-point |\n",
    "| str()    | String         |\n",
    "| bool()   | Boolean        |"
   ]
  },
  {
   "cell_type": "code",
   "execution_count": 12,
   "id": "03cd895d",
   "metadata": {},
   "outputs": [
    {
     "name": "stdout",
     "output_type": "stream",
     "text": [
      "15\n"
     ]
    }
   ],
   "source": [
    "num_str = \"10\"\n",
    "num_int = int(num_str)\n",
    "print(num_int + 5) \n"
   ]
  },
  {
   "cell_type": "code",
   "execution_count": null,
   "id": "4a73bf1c",
   "metadata": {},
   "outputs": [
    {
     "name": "stdout",
     "output_type": "stream",
     "text": [
      "9\n"
     ]
    }
   ],
   "source": [
    "price = 9.99\n",
    "rounded = int(price)\n",
    "print(rounded)  #(it **truncates**, doesn't round)\n",
    "# Truncate means to cut off the decimal part of a number, leaving only the integer portion.\n"
   ]
  },
  {
   "cell_type": "code",
   "execution_count": 15,
   "id": "22722524",
   "metadata": {},
   "outputs": [
    {
     "name": "stdout",
     "output_type": "stream",
     "text": [
      "You are 30 years old.\n"
     ]
    }
   ],
   "source": [
    "age = 30\n",
    "text = \"You are \" + str(age) + \" years old.\"\n",
    "print(text)\n"
   ]
  },
  {
   "cell_type": "code",
   "execution_count": null,
   "id": "77e67dfd",
   "metadata": {},
   "outputs": [
    {
     "name": "stdout",
     "output_type": "stream",
     "text": [
      "False\n",
      "True\n",
      "False\n",
      "True\n"
     ]
    }
   ],
   "source": [
    "# 0, \"\", None, [], {} → False\n",
    "# Everything else → True\n",
    "print(bool(0))       # False\n",
    "print(bool(1))       # True\n",
    "print(bool(\"\"))      # False\n",
    "print(bool(\"hello\")) # True\n"
   ]
  },
  {
   "cell_type": "code",
   "execution_count": null,
   "id": "f9a0354c",
   "metadata": {},
   "outputs": [
    {
     "ename": "ValueError",
     "evalue": "invalid literal for int() with base 10: 'abc'",
     "output_type": "error",
     "traceback": [
      "\u001b[1;31m---------------------------------------------------------------------------\u001b[0m",
      "\u001b[1;31mValueError\u001b[0m                                Traceback (most recent call last)",
      "Cell \u001b[1;32mIn[17], line 1\u001b[0m\n\u001b[1;32m----> 1\u001b[0m \u001b[38;5;28;43mint\u001b[39;49m\u001b[43m(\u001b[49m\u001b[38;5;124;43m\"\u001b[39;49m\u001b[38;5;124;43mabc\u001b[39;49m\u001b[38;5;124;43m\"\u001b[39;49m\u001b[43m)\u001b[49m  \u001b[38;5;66;03m# ❌ Error!\u001b[39;00m\n\u001b[0;32m      2\u001b[0m \u001b[38;5;28mfloat\u001b[39m(\u001b[38;5;124m\"\u001b[39m\u001b[38;5;124mhello\u001b[39m\u001b[38;5;124m\"\u001b[39m)  \u001b[38;5;66;03m# ❌ Error!\u001b[39;00m\n",
      "\u001b[1;31mValueError\u001b[0m: invalid literal for int() with base 10: 'abc'"
     ]
    }
   ],
   "source": [
    "#  error\n",
    "int(\"abc\")  # ❌ Error!\n",
    "float(\"hello\")  # ❌ Error!\n"
   ]
  }
 ],
 "metadata": {
  "kernelspec": {
   "display_name": "Python 3",
   "language": "python",
   "name": "python3"
  },
  "language_info": {
   "codemirror_mode": {
    "name": "ipython",
    "version": 3
   },
   "file_extension": ".py",
   "mimetype": "text/x-python",
   "name": "python",
   "nbconvert_exporter": "python",
   "pygments_lexer": "ipython3",
   "version": "3.13.0"
  }
 },
 "nbformat": 4,
 "nbformat_minor": 5
}
