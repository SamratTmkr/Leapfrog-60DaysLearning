{
 "cells": [
  {
   "cell_type": "markdown",
   "id": "95e093ce",
   "metadata": {},
   "source": [
    "## Encapsulation\n",
    "In Python, encapsulation refers to the bundling of data (attributes) and methods (functions) that operate on the data into a single unit, typically a class. It also restricts direct access to some components, which helps protect the integrity of the data and ensures proper usage."
   ]
  },
  {
   "cell_type": "code",
   "execution_count": 1,
   "id": "476bc117",
   "metadata": {},
   "outputs": [
    {
     "name": "stdout",
     "output_type": "stream",
     "text": [
      "John\n",
      "John\n"
     ]
    }
   ],
   "source": [
    "class Public:\n",
    "    def __init__(self):\n",
    "        self.name = \"John\"  # Public attribute\n",
    "\n",
    "    def display_name(self):\n",
    "        print(self.name)  # Public method\n",
    "\n",
    "obj = Public()\n",
    "obj.display_name()  # Accessible\n",
    "print(obj.name)  # Accessible"
   ]
  },
  {
   "cell_type": "code",
   "execution_count": 2,
   "id": "49ff2df0",
   "metadata": {},
   "outputs": [
    {
     "name": "stdout",
     "output_type": "stream",
     "text": [
      "30\n"
     ]
    }
   ],
   "source": [
    "class Protected:\n",
    "    def __init__(self):\n",
    "        self._age = 30  # Protected attribute\n",
    "\n",
    "class Subclass(Protected):\n",
    "    def display_age(self):\n",
    "        print(self._age)  # Accessible in subclass\n",
    "\n",
    "obj = Subclass()\n",
    "obj.display_age()"
   ]
  },
  {
   "cell_type": "code",
   "execution_count": 3,
   "id": "fd9956d1",
   "metadata": {},
   "outputs": [
    {
     "name": "stdout",
     "output_type": "stream",
     "text": [
      "50000\n"
     ]
    }
   ],
   "source": [
    "class Private:\n",
    "    def __init__(self):\n",
    "        self.__salary = 50000  # Private attribute\n",
    "\n",
    "    def salary(self):\n",
    "        return self.__salary  # Access through public method\n",
    "\n",
    "obj = Private()\n",
    "print(obj.salary())  # Works\n",
    "#print(obj.__salary)  # Raises AttributeError"
   ]
  }
 ],
 "metadata": {
  "kernelspec": {
   "display_name": "Python 3",
   "language": "python",
   "name": "python3"
  },
  "language_info": {
   "codemirror_mode": {
    "name": "ipython",
    "version": 3
   },
   "file_extension": ".py",
   "mimetype": "text/x-python",
   "name": "python",
   "nbconvert_exporter": "python",
   "pygments_lexer": "ipython3",
   "version": "3.13.0"
  }
 },
 "nbformat": 4,
 "nbformat_minor": 5
}
