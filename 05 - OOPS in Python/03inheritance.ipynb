{
 "cells": [
  {
   "cell_type": "markdown",
   "id": "21186c4a",
   "metadata": {},
   "source": [
    "## Inheritance in Python\n",
    "\n",
    "Inheritance is a fundamental concept in object-oriented programming (OOP) that allows a class (called a child or derived class) to inherit attributes and methods from another class (called a parent or base class). This promotes code reuse, modularity, and a hierarchical class structure. In this article, we'll explore inheritance in Python."
   ]
  },
  {
   "cell_type": "code",
   "execution_count": 2,
   "id": "0d24c300",
   "metadata": {},
   "outputs": [
    {
     "name": "stdout",
     "output_type": "stream",
     "text": [
      "Buddy barks!\n"
     ]
    }
   ],
   "source": [
    "# Parent class\n",
    "class Animal:\n",
    "    def __init__(self, name):\n",
    "        self.name = name  # Initialize the name attribute\n",
    "\n",
    "    def speak(self):\n",
    "        pass  # Placeholder method to be overridden by child classes\n",
    "\n",
    "# Child class inheriting from Animal\n",
    "class Dog(Animal):\n",
    "    def speak(self):\n",
    "        return f\"{self.name} barks!\"  # Override the speak method\n",
    "\n",
    "# Creating an instance of Dog\n",
    "dog = Dog(\"Buddy\")\n",
    "print(dog.speak())"
   ]
  },
  {
   "cell_type": "code",
   "execution_count": 3,
   "id": "f030f610",
   "metadata": {},
   "outputs": [
    {
     "name": "stdout",
     "output_type": "stream",
     "text": [
      "Satyam 102\n"
     ]
    }
   ],
   "source": [
    "# A Python program to demonstrate inheritance\n",
    "class Person(object):\n",
    "  \n",
    "  # Constructor\n",
    "  def __init__(self, name, id):\n",
    "    self.name = name\n",
    "    self.id = id\n",
    "\n",
    "  # To check if this person is an employee\n",
    "  def Display(self):\n",
    "    print(self.name, self.id)\n",
    "\n",
    "\n",
    "# Driver code\n",
    "emp = Person(\"Satyam\", 102) # An Object of Person\n",
    "emp.Display()"
   ]
  },
  {
   "cell_type": "code",
   "execution_count": 4,
   "id": "7154ae4d",
   "metadata": {},
   "outputs": [
    {
     "name": "stdout",
     "output_type": "stream",
     "text": [
      "Mayank 103\n",
      "Emp class called\n"
     ]
    }
   ],
   "source": [
    "class Emp(Person):\n",
    "  \n",
    "  def Print(self):\n",
    "    print(\"Emp class called\")\n",
    "    \n",
    "Emp_details = Emp(\"Mayank\", 103)\n",
    "\n",
    "# calling parent class function\n",
    "Emp_details.Display()\n",
    "\n",
    "# Calling child class function\n",
    "Emp_details.Print()"
   ]
  },
  {
   "cell_type": "markdown",
   "id": "7b9a242d",
   "metadata": {},
   "source": [
    "## __init__() Function\n",
    "__init__() function is a constructor method in Python. It initializes the object's state when the object is created. If the child class does not define its own __init__() method, it will automatically inherit the one from the parent class.\n",
    "\n",
    "In the example above, the __init__() method in the Employee class ensures that both inherited and new attributes are properly initialized."
   ]
  },
  {
   "cell_type": "code",
   "execution_count": 10,
   "id": "178d6377",
   "metadata": {},
   "outputs": [
    {
     "name": "stdout",
     "output_type": "stream",
     "text": [
      "Name: Alice\n",
      "ID Number: E1234\n",
      "Salary: 50000\n",
      "Post: Software Engineer\n"
     ]
    }
   ],
   "source": [
    "# Parent Class: Person\n",
    "class Person:\n",
    "    def __init__(self, name, idnumber):\n",
    "        self.name = name\n",
    "        self.idnumber = idnumber\n",
    "\n",
    "# Child Class: Employee\n",
    "class Employee(Person):\n",
    "    def __init__(self, name, idnumber, salary, post):\n",
    "        super().__init__(name, idnumber)  # Calls Person's __init__()\n",
    "        self.salary = salary\n",
    "        self.post = post\n",
    "\n",
    "# Creating an Employee object\n",
    "emp1 = Employee(\"Alice\", \"E1234\", 50000, \"Software Engineer\")\n",
    "\n",
    "# Accessing attributes\n",
    "print(\"Name:\", emp1.name)\n",
    "print(\"ID Number:\", emp1.idnumber)\n",
    "print(\"Salary:\", emp1.salary)\n",
    "print(\"Post:\", emp1.post)\n"
   ]
  },
  {
   "cell_type": "code",
   "execution_count": 12,
   "id": "d6cc5bb9",
   "metadata": {},
   "outputs": [
    {
     "name": "stdout",
     "output_type": "stream",
     "text": [
      "Name: John Doe\n",
      "ID Number: A102\n",
      "Salary: 75000\n",
      "Post: Manager\n"
     ]
    }
   ],
   "source": [
    "# Parent Class: Person\n",
    "class Person:\n",
    "    def __init__(self, name, idnumber):\n",
    "        self.name = name\n",
    "        self.idnumber = idnumber\n",
    "\n",
    "    def display(self):\n",
    "        print(\"Name:\", self.name)\n",
    "        print(\"ID Number:\", self.idnumber)\n",
    "\n",
    "# Child Class: Employee\n",
    "class Employee(Person):\n",
    "    def __init__(self, name, idnumber, salary, post):\n",
    "        super().__init__(name, idnumber)  # Using super() to call Person's __init__()\n",
    "        self.salary = salary\n",
    "        self.post = post\n",
    "\n",
    "    def display_employee(self):\n",
    "        self.display()  # Call display() method from Person\n",
    "        print(\"Salary:\", self.salary)\n",
    "        print(\"Post:\", self.post)\n",
    "\n",
    "# Create an object of Employee\n",
    "emp1 = Employee(\"John Doe\", \"A102\", 75000, \"Manager\")\n",
    "\n",
    "# Display information\n",
    "emp1.display_employee()\n"
   ]
  },
  {
   "cell_type": "code",
   "execution_count": 13,
   "id": "3d0c3c73",
   "metadata": {},
   "outputs": [
    {
     "name": "stdout",
     "output_type": "stream",
     "text": [
      "Name: Emma Watson\n",
      "ID Number: E567\n",
      "Salary: 80000\n",
      "Post: HR Manager\n"
     ]
    }
   ],
   "source": [
    "# Parent Class: Person\n",
    "class Person:\n",
    "    def __init__(self, name, idnumber):\n",
    "        self.name = name\n",
    "        self.idnumber = idnumber\n",
    "\n",
    "    def display(self):\n",
    "        print(\"Name:\", self.name)\n",
    "        print(\"ID Number:\", self.idnumber)\n",
    "\n",
    "# Child Class: Employee\n",
    "class Employee(Person):\n",
    "    def __init__(self, name, idnumber, salary, post):\n",
    "        super().__init__(name, idnumber)\n",
    "        self.salary = salary\n",
    "        self.post = post\n",
    "\n",
    "# Create an Employee object\n",
    "emp1 = Employee(\"Emma Watson\", \"E567\", 80000, \"HR Manager\")\n",
    "\n",
    "# Call inherited method\n",
    "emp1.display()\n",
    "\n",
    "# Print additional attributes\n",
    "print(\"Salary:\", emp1.salary)\n",
    "print(\"Post:\", emp1.post)\n"
   ]
  },
  {
   "cell_type": "markdown",
   "id": "1bb8e352",
   "metadata": {},
   "source": [
    "## Types of Python Inheritance\n",
    "##### Single Inheritance: A child class inherits from one parent class.\n",
    "\n",
    "##### Multiple Inheritance: A child class inherits from more than one parent class.\n",
    "##### Multilevel Inheritance: A class is derived from a class which is also derived from another class.\n",
    "##### Hierarchical Inheritance: Multiple classes inherit from a single parent class.\n",
    "##### Hybrid Inheritance: A combination of more than one type of inheritance."
   ]
  },
  {
   "cell_type": "code",
   "execution_count": 9,
   "id": "80a2c28a",
   "metadata": {},
   "outputs": [
    {
     "name": "stdout",
     "output_type": "stream",
     "text": [
      "John 40000\n",
      "Alice 50000\n",
      "Bob 60000 HR\n",
      "Charlie 45000 10\n",
      "David 70000 Finance 20\n"
     ]
    }
   ],
   "source": [
    "\n",
    "# 1. Single Inheritance\n",
    "class Person:\n",
    "    def __init__(self, name):\n",
    "        self.name = name\n",
    "\n",
    "class Employee(Person):  # Employee inherits from Person\n",
    "    def __init__(self, name, salary):\n",
    "        super().__init__(name)\n",
    "        self.salary = salary\n",
    "\n",
    "# 2. Multiple Inheritance\n",
    "class Job:\n",
    "    def __init__(self, salary):\n",
    "        self.salary = salary\n",
    "\n",
    "class EmployeePersonJob(Employee, Job):  # Inherits from both Employee and Job\n",
    "    def __init__(self, name, salary):\n",
    "        Employee.__init__(self, name, salary)  # Initialize Employee\n",
    "        Job.__init__(self, salary)            # Initialize Job\n",
    "\n",
    "# 3. Multilevel Inheritance\n",
    "class Manager(EmployeePersonJob):  # Inherits from EmployeePersonJob\n",
    "    def __init__(self, name, salary, department):\n",
    "        EmployeePersonJob.__init__(self, name, salary)  # Explicitly initialize EmployeePersonJob\n",
    "        self.department = department\n",
    "\n",
    "# 4. Hierarchical Inheritance\n",
    "class AssistantManager(EmployeePersonJob):  # Inherits from EmployeePersonJob\n",
    "    def __init__(self, name, salary, team_size):\n",
    "        EmployeePersonJob.__init__(self, name, salary)  # Explicitly initialize EmployeePersonJob\n",
    "        self.team_size = team_size\n",
    "\n",
    "# 5. Hybrid Inheritance (Multiple + Multilevel)\n",
    "class SeniorManager(Manager, AssistantManager):  # Inherits from both Manager and AssistantManager\n",
    "    def __init__(self, name, salary, department, team_size):\n",
    "        Manager.__init__(self, name, salary, department)        # Initialize Manager\n",
    "        AssistantManager.__init__(self, name, salary, team_size)  # Initialize AssistantManager\n",
    "\n",
    "# Creating objects to show inheritance\n",
    "\n",
    "# Single Inheritance\n",
    "emp = Employee(\"John\", 40000)\n",
    "print(emp.name, emp.salary)\n",
    "\n",
    "# Multiple Inheritance\n",
    "emp2 = EmployeePersonJob(\"Alice\", 50000)\n",
    "print(emp2.name, emp2.salary)\n",
    "\n",
    "# Multilevel Inheritance\n",
    "mgr = Manager(\"Bob\", 60000, \"HR\")\n",
    "print(mgr.name, mgr.salary, mgr.department)\n",
    "\n",
    "# Hierarchical Inheritance\n",
    "asst_mgr = AssistantManager(\"Charlie\", 45000, 10)\n",
    "print(asst_mgr.name, asst_mgr.salary, asst_mgr.team_size)\n",
    "\n",
    "# Hybrid Inheritance\n",
    "sen_mgr = SeniorManager(\"David\", 70000, \"Finance\", 20)\n",
    "print(sen_mgr.name, sen_mgr.salary, sen_mgr.department, sen_mgr.team_size)"
   ]
  }
 ],
 "metadata": {
  "kernelspec": {
   "display_name": "Python 3",
   "language": "python",
   "name": "python3"
  },
  "language_info": {
   "codemirror_mode": {
    "name": "ipython",
    "version": 3
   },
   "file_extension": ".py",
   "mimetype": "text/x-python",
   "name": "python",
   "nbconvert_exporter": "python",
   "pygments_lexer": "ipython3",
   "version": "3.13.0"
  }
 },
 "nbformat": 4,
 "nbformat_minor": 5
}
