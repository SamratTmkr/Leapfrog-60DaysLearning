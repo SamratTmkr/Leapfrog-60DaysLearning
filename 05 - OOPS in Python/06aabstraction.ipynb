{
 "cells": [
  {
   "cell_type": "markdown",
   "id": "a10fb018",
   "metadata": {},
   "source": [
    "## Abstraction\n",
    "Abstraction is one of the important principles of object-oriented programming. It refers to a programming approach by which only the relevant data about an object is exposed, hiding all the other details. This approach helps in reducing the complexity and increasing the efficiency of application development.\n",
    "\n",
    "#### In Python, abstraction is achieved using the `abc` (Abstract Base Class) module. It lets you define methods that **must** be implemented in child classes.\n"
   ]
  },
  {
   "cell_type": "code",
   "execution_count": 1,
   "id": "78c1fc6f",
   "metadata": {},
   "outputs": [
    {
     "name": "stdout",
     "output_type": "stream",
     "text": [
      "We are inside TestClass task\n",
      "Passed value: 100\n",
      "We are inside ExampleClass task\n",
      "Passed value: 200\n"
     ]
    }
   ],
   "source": [
    "from abc import ABC, abstractmethod\n",
    "\n",
    "class AbsClass(ABC):\n",
    "    def print(self, x):\n",
    "        print(\"Passed value:\", x)\n",
    "\n",
    "    @abstractmethod\n",
    "    def task(self):\n",
    "        pass\n",
    "\n",
    "class TestClass(AbsClass):\n",
    "    def task(self):\n",
    "        print(\"We are inside TestClass task\")\n",
    "\n",
    "class ExampleClass(AbsClass):\n",
    "    def task(self):\n",
    "        print(\"We are inside ExampleClass task\")\n",
    "\n",
    "# Usage\n",
    "test_obj = TestClass()\n",
    "test_obj.task()\n",
    "test_obj.print(100)\n",
    "\n",
    "example_obj = ExampleClass()\n",
    "example_obj.task()\n",
    "example_obj.print(200)\n"
   ]
  },
  {
   "cell_type": "code",
   "execution_count": 2,
   "id": "41efc4a2",
   "metadata": {},
   "outputs": [
    {
     "name": "stdout",
     "output_type": "stream",
     "text": [
      "Brand: Maruti\n",
      "Model: Alto\n",
      "Year: 2022\n",
      "Speed up ...\n",
      "Not having this feature\n"
     ]
    }
   ],
   "source": [
    "from abc import ABC, abstractmethod\n",
    "\n",
    "class Car(ABC):\n",
    "    def __init__(self, brand, model, year):\n",
    "        self.brand = brand\n",
    "        self.model = model\n",
    "        self.year = year\n",
    "\n",
    "    @abstractmethod\n",
    "    def printDetails(self):\n",
    "        pass\n",
    "\n",
    "    def accelerate(self):\n",
    "        print(\"Speed up ...\")\n",
    "\n",
    "    def apply_brake(self):\n",
    "        print(\"Car stopped\")\n",
    "\n",
    "class Hatchback(Car):\n",
    "    def printDetails(self):\n",
    "        print(\"Brand:\", self.brand)\n",
    "        print(\"Model:\", self.model)\n",
    "        print(\"Year:\", self.year)\n",
    "\n",
    "    def sunroof(self):\n",
    "        print(\"Not having this feature\")\n",
    "\n",
    "class SUV(Car):\n",
    "    def printDetails(self):\n",
    "        print(\"Brand:\", self.brand)\n",
    "        print(\"Model:\", self.model)\n",
    "        print(\"Year:\", self.year)\n",
    "\n",
    "    def sunroof(self):\n",
    "        print(\"Available\")\n",
    "\n",
    "# Usage\n",
    "car1 = Hatchback(\"Maruti\", \"Alto\", \"2022\")\n",
    "car1.printDetails()\n",
    "car1.accelerate()\n",
    "car1.sunroof()\n"
   ]
  },
  {
   "cell_type": "code",
   "execution_count": 3,
   "id": "a8a54522",
   "metadata": {},
   "outputs": [
    {
     "name": "stdout",
     "output_type": "stream",
     "text": [
      "Processing credit card payment of 100\n",
      "Processing PayPal payment of 100\n",
      "Processing cryptocurrency payment of 100\n"
     ]
    }
   ],
   "source": [
    "from abc import ABC, abstractmethod\n",
    "\n",
    "class PaymentProcessor(ABC):\n",
    "    @abstractmethod\n",
    "    def process_payment(self, amount):\n",
    "        pass\n",
    "\n",
    "class CreditCardProcessor(PaymentProcessor):\n",
    "    def process_payment(self, amount):\n",
    "        return f\"Processing credit card payment of {amount}\"\n",
    "\n",
    "class PayPalProcessor(PaymentProcessor):\n",
    "    def process_payment(self, amount):\n",
    "        return f\"Processing PayPal payment of {amount}\"\n",
    "\n",
    "class CryptoProcessor(PaymentProcessor):\n",
    "    def process_payment(self, amount):\n",
    "        return f\"Processing cryptocurrency payment of {amount}\"\n",
    "\n",
    "# Usage\n",
    "for proc in (CreditCardProcessor(), PayPalProcessor(), CryptoProcessor()):\n",
    "    print(proc.process_payment(100))\n"
   ]
  }
 ],
 "metadata": {
  "kernelspec": {
   "display_name": "Python 3",
   "language": "python",
   "name": "python3"
  },
  "language_info": {
   "codemirror_mode": {
    "name": "ipython",
    "version": 3
   },
   "file_extension": ".py",
   "mimetype": "text/x-python",
   "name": "python",
   "nbconvert_exporter": "python",
   "pygments_lexer": "ipython3",
   "version": "3.13.0"
  }
 },
 "nbformat": 4,
 "nbformat_minor": 5
}
