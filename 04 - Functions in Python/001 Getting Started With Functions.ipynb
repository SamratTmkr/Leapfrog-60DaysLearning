{
 "cells": [
  {
   "cell_type": "markdown",
   "id": "81ad9d5e",
   "metadata": {},
   "source": [
    "Function:A function in programming is a block of reusable code that performs a specific task."
   ]
  },
  {
   "cell_type": "markdown",
   "id": "878e84d7",
   "metadata": {},
   "source": [
    "# Python Functions\n",
    "\n",
    "A function is a block of code that only runs when it is called.\n",
    "\n",
    "You can pass data, known as parameters, into a function.\n",
    "\n",
    "A function can return data as a result.\n",
    "\n",
    "\n",
    "### Defining a Function in Python\n",
    "In Python, functions are defined using the `def` keyword, followed by the function name, parentheses, and a colon. The function body contains the code to execute and is indented.\n",
    "\n",
    "\n",
    "\n",
    "# Syntax of a Function in Python\n",
    "\n",
    "```python\n",
    "def function_name(parameters):\n",
    "    \n",
    "    # Code block\n",
    "    return value  # Optional return statement\n",
    "\n",
    "\n",
    "\n",
    "\n",
    "\n",
    "\n",
    "\n",
    "\n",
    "\n",
    "\n",
    "\n",
    "## Creating a Function\n",
    "\n",
    "In Python, a function is defined using the `def` keyword:\n",
    "\n",
    "\n",
    "\n"
   ]
  },
  {
   "cell_type": "code",
   "execution_count": null,
   "id": "9783c4d7",
   "metadata": {},
   "outputs": [
    {
     "name": "stdout",
     "output_type": "stream",
     "text": [
      "Hello from a function\n",
      "Hello from a function\n"
     ]
    }
   ],
   "source": [
    "# Example of defining and calling a function\n",
    "def my_function():  #creating function\n",
    "    print(\"Hello from a function\")\n",
    "\n",
    "my_function()\n",
    "my_function()\n",
    "\n",
    "\n"
   ]
  },
  {
   "cell_type": "code",
   "execution_count": null,
   "id": "c61d0639",
   "metadata": {},
   "outputs": [
    {
     "name": "stdout",
     "output_type": "stream",
     "text": [
      "hello\n",
      "hello\n"
     ]
    }
   ],
   "source": [
    "def function():\n",
    "    print(\"hello\")\n",
    "function()\n",
    "function()\n",
    "function"
   ]
  },
  {
   "cell_type": "code",
   "execution_count": 5,
   "id": "b54c6ec5",
   "metadata": {},
   "outputs": [
    {
     "name": "stdout",
     "output_type": "stream",
     "text": [
      "hello\n",
      "hello\n",
      "hello\n",
      "hello\n",
      "hello\n"
     ]
    }
   ],
   "source": [
    "def function():\n",
    "    print(\"hello\")\n",
    "function()\n",
    "function()\n",
    "function()\n",
    "function()\n",
    "function()\n"
   ]
  },
  {
   "cell_type": "code",
   "execution_count": null,
   "id": "424b0103",
   "metadata": {},
   "outputs": [
    {
     "name": "stdout",
     "output_type": "stream",
     "text": [
      "hello\n",
      "hello\n"
     ]
    }
   ],
   "source": [
    "def function():\n",
    "    print(\"hello\")\n",
    "function()\n",
    "function()\n",
    "function"
   ]
  },
  {
   "cell_type": "markdown",
   "id": "d0acd10b",
   "metadata": {},
   "source": [
    "### Key Components\n",
    "- `def`: The keyword used to define a function.\n",
    "- **Function Name**: A unique identifier for the function (e.g., `calculate_sum`).\n",
    "- **Parameters**: Variables to accept inputs inside parentheses (e.g., `x`, `y`); optional.\n",
    "\n",
    "- **Function Body**: Contains the logic/code to execute.\n",
    "- **`return` Statement**: Specifies the output of the function; optional."
   ]
  },
  {
   "cell_type": "markdown",
   "id": "751615bc",
   "metadata": {},
   "source": [
    "### Example 1: Basic Function\n",
    "Positional Arguments\n",
    "Definition: Arguments are passed in the order in which parameters are defined in the function.\n"
   ]
  },
  {
   "cell_type": "code",
   "execution_count": 1,
   "id": "66bdbbdb",
   "metadata": {},
   "outputs": [
    {
     "name": "stdout",
     "output_type": "stream",
     "text": [
      "Hello, Alice!\n"
     ]
    }
   ],
   "source": [
    "def greet(name): \n",
    "    mess=f\"Hello, {name}!\"\n",
    "    return mess\n",
    "\n",
    "# Calling the function\n",
    "message = greet(\"Alice\")\n",
    "print(message)  # Output: Hello, Alice!"
   ]
  },
  {
   "cell_type": "markdown",
   "id": "d21d24d4",
   "metadata": {},
   "source": [
    "### Example 2: Function with Multiple Parameters"
   ]
  },
  {
   "cell_type": "code",
   "execution_count": 7,
   "id": "9ff4c145",
   "metadata": {},
   "outputs": [
    {
     "name": "stdout",
     "output_type": "stream",
     "text": [
      "12\n",
      "17\n"
     ]
    }
   ],
   "source": [
    "def add_numbers(a, b):\n",
    "    c=a+b\n",
    "    return c\n",
    "\n",
    "# Calling the function\n",
    "result = add_numbers(5, 7)\n",
    "print(result)  # Output: 12\n",
    "\n",
    "res2= add_numbers(8,9)\n",
    "print(res2)"
   ]
  },
  {
   "cell_type": "markdown",
   "id": "7e8c08eb",
   "metadata": {},
   "source": [
    "### Example 3: Function with Default Arguments"
   ]
  },
  {
   "cell_type": "code",
   "execution_count": null,
   "id": "8c38343e",
   "metadata": {},
   "outputs": [
    {
     "name": "stdout",
     "output_type": "stream",
     "text": [
      "Hello, User!\n",
      "Hello, saishna!\n",
      "Hello, User!\n",
      "Hello, Alice!\n"
     ]
    }
   ],
   "source": [
    "def greet(name=\"User\"):\n",
    "        c= f\"Hello, {name}!\"\n",
    "        return c\n",
    "\n",
    "# Calling the function without an argument\n",
    "message= greet()\n",
    "print(message)\n",
    "print(greet())\n",
    "\n",
    "message2=greet(\"saishna\")\n",
    "print(message2)\n",
    "\n",
    "\n",
    "\n",
    "# print(greet())  # Output: Hello, User!\n",
    "# # Calling the function with an argument\n",
    "# print(greet(\"Alice\"))  # Output: Hello, Alice!"
   ]
  },
  {
   "cell_type": "markdown",
   "id": "48761a30",
   "metadata": {},
   "source": [
    "### Example 4: Function Using Keyword Arguments"
   ]
  },
  {
   "cell_type": "code",
   "execution_count": 1,
   "id": "c6855bc2",
   "metadata": {},
   "outputs": [
    {
     "name": "stdout",
     "output_type": "stream",
     "text": [
      "John is 25 years old and lives in New York.\n"
     ]
    }
   ],
   "source": [
    "def describe_person(name, age, city):\n",
    "    details=f\"{name} is {age} years old and lives in {city}.\"\n",
    "    return details\n",
    "\n",
    "# Calling the function using keyword arguments\n",
    "print(describe_person(age=25, city=\"New York\", name=\"John\"))\n",
    "# Output: John is 25 years old and lives in New York."
   ]
  },
  {
   "cell_type": "markdown",
   "id": "953a48af",
   "metadata": {},
   "source": [
    "### Example 5: Function Without a Return Statement"
   ]
  },
  {
   "cell_type": "code",
   "execution_count": null,
   "id": "4232505f",
   "metadata": {},
   "outputs": [
    {
     "name": "stdout",
     "output_type": "stream",
     "text": [
      "Hello, World!\n",
      "None\n"
     ]
    }
   ],
   "source": [
    "def display_message(message):\n",
    "   \n",
    "    print(message)\n",
    "\n",
    "# Calling the function\n",
    "print(display_message(\"Hello, World!\"))\n",
    "# Output: Hello, World!"
   ]
  },
  {
   "cell_type": "markdown",
   "id": "42f7f0f2",
   "metadata": {},
   "source": [
    "### Benefits of Functions\n",
    "- **Reusability**: Write once, use multiple times.\n",
    "- **Modularity**: Divide complex tasks into smaller, manageable chunks.\n",
    "- **Improved Readability**: Makes the code cleaner and easier to follow.\n",
    "- **Ease of Maintenance**: Modifications in one function don’t affect the rest of the code."
   ]
  },
  {
   "cell_type": "markdown",
   "id": "6002ac13",
   "metadata": {},
   "source": [
    "\n",
    "\n",
    "1. Find Maximum of Two Numbers"
   ]
  },
  {
   "cell_type": "code",
   "execution_count": 14,
   "id": "a13d60ca",
   "metadata": {},
   "outputs": [
    {
     "name": "stdout",
     "output_type": "stream",
     "text": [
      "20\n",
      "0\n",
      "5\n"
     ]
    }
   ],
   "source": [
    "# Function to find the maximum of two numbers\n",
    "def find_max(num1, num2):\n",
    "    return num1 if num1 > num2 else num2\n",
    "\n",
    "# Example function calls\n",
    "result1 = find_max(10, 20)\n",
    "print(result1)  # Output: 20\n",
    "\n",
    "result2 = find_max(-5, 0)\n",
    "print(result2)  # Output: 0\n",
    "\n",
    "result3 = find_max(5, 5)\n",
    "print(result3)  # Output: 5\n"
   ]
  },
  {
   "cell_type": "markdown",
   "id": "a39b01cc",
   "metadata": {},
   "source": [
    "2. Check Even or Odd"
   ]
  },
  {
   "cell_type": "code",
   "execution_count": null,
   "id": "4ae77a81",
   "metadata": {},
   "outputs": [
    {
     "name": "stdout",
     "output_type": "stream",
     "text": [
      "True\n",
      "False\n",
      "True\n"
     ]
    }
   ],
   "source": [
    "# Function to check if a number is even\n",
    "def is_even(number):\n",
    "\n",
    "    return number % 2 == 0\n",
    "\n",
    "# Example function calls\n",
    "result1 = is_even(4)\n",
    "print(result1)  # Output: True\n",
    "\n",
    "result2 = is_even(7)\n",
    "print(result2)  # Output: False\n",
    "\n",
    "result3 = is_even(0)\n",
    "print(result3)  # Output: True\n"
   ]
  },
  {
   "cell_type": "code",
   "execution_count": 12,
   "id": "bb5b5e33",
   "metadata": {},
   "outputs": [
    {
     "name": "stdout",
     "output_type": "stream",
     "text": [
      "50\n",
      "21\n",
      "0\n"
     ]
    }
   ],
   "source": [
    "# Function to calculate the area of a rectangle\n",
    "def rectangle_area(length, width):\n",
    "    return length * width\n",
    "\n",
    "# Example function calls\n",
    "result1 = rectangle_area(5, 10)\n",
    "print(result1)  # Output: 50\n",
    "\n",
    "result2 = rectangle_area(7, 3)\n",
    "print(result2)  # Output: 21\n",
    "\n",
    "result3 = rectangle_area(0, 10)\n",
    "print(result3)  # Output: 0\n"
   ]
  },
  {
   "cell_type": "code",
   "execution_count": 11,
   "id": "d378cca0",
   "metadata": {},
   "outputs": [
    {
     "name": "stdout",
     "output_type": "stream",
     "text": [
      "2\n",
      "1\n",
      "5\n",
      "0\n"
     ]
    }
   ],
   "source": [
    "# Function to count the number of vowels in a string\n",
    "def count_vowels(string):\n",
    "    vowels = \"aeiouAEIOU\"\n",
    "    count = 0\n",
    "    for char in string:\n",
    "        if char in vowels:\n",
    "            count += 1\n",
    "    return count\n",
    "\n",
    "# Example function calls\n",
    "result1 = count_vowels(\"hello\")\n",
    "print(result1)  # Output: 2\n",
    "\n",
    "result2 = count_vowels(\"Python\")\n",
    "print(result2)  # Output: 1\n",
    "\n",
    "result3 = count_vowels(\"beautiful\")\n",
    "print(result3)  # Output: 5\n",
    "\n",
    "result4 = count_vowels(\"\")\n",
    "print(result4)  # Output: 0\n"
   ]
  },
  {
   "cell_type": "code",
   "execution_count": 1,
   "id": "048b0db5",
   "metadata": {},
   "outputs": [
    {
     "name": "stdout",
     "output_type": "stream",
     "text": [
      "The factorial of 5 is 120.\n"
     ]
    }
   ],
   "source": [
    "def factorial():\n",
    "    num = int(input(\"Enter a number to calculate its factorial: \"))\n",
    "    if num < 0:\n",
    "        print(\"Factorial not defined for negative numbers.\")\n",
    "        return\n",
    "    result = 1\n",
    "    for i in range(1, num + 1):\n",
    "        result *= i\n",
    "    print(f\"The factorial of {num} is {result}.\")\n",
    "\n",
    "factorial()\n"
   ]
  },
  {
   "cell_type": "code",
   "execution_count": 2,
   "id": "9d916b1d",
   "metadata": {},
   "outputs": [
    {
     "name": "stdout",
     "output_type": "stream",
     "text": [
      "The reverse of '3' is '3'.\n"
     ]
    }
   ],
   "source": [
    "def reverse_string():\n",
    "    s = input(\"Enter a string to reverse: \")\n",
    "    reversed_str = \"\"\n",
    "    for char in s:\n",
    "        reversed_str = char + reversed_str\n",
    "    print(f\"The reverse of '{s}' is '{reversed_str}'.\")\n",
    "\n",
    "reverse_string()\n"
   ]
  },
  {
   "cell_type": "markdown",
   "id": "b95c859a",
   "metadata": {},
   "source": [
    "# Python Scope and Variables\n",
    "\n",
    "In Python, the scope of a variable refers to the part of the program where a variable can be accessed or modified. Understanding variable scope is crucial when working with functions, loops, and classes.\n",
    "\n",
    "## Types of Scopes in Python\n",
    "\n",
    "### 1. **Local Scope**\n",
    "A variable is in the **local scope** if it is defined inside a function. It can only be accessed within that function.\n",
    "\n",
    "\n"
   ]
  },
  {
   "cell_type": "code",
   "execution_count": 3,
   "id": "aa93dd01",
   "metadata": {},
   "outputs": [
    {
     "name": "stdout",
     "output_type": "stream",
     "text": [
      "10\n"
     ]
    }
   ],
   "source": [
    "def my_function():\n",
    "    x = 10  # 'x' is in the local scope of my_function\n",
    "    print(x)  # Output: 10\n",
    "\n",
    "my_function()\n",
    "# print(x)  # This would raise an error because 'x' is not in the global scope"
   ]
  },
  {
   "cell_type": "markdown",
   "id": "62889821",
   "metadata": {},
   "source": [
    "### 2. **Global Scope**\n",
    "A variable is in the global scope if it is defined outside of all functions. It can be accessed anywhere in the program, but it should be declared `global` inside a function if you want to modify it.\n",
    "\n",
    "\n"
   ]
  },
  {
   "cell_type": "code",
   "execution_count": 18,
   "id": "ed5328a5",
   "metadata": {},
   "outputs": [
    {
     "name": "stdout",
     "output_type": "stream",
     "text": [
      "10\n",
      "20\n"
     ]
    }
   ],
   "source": [
    "x=20\n",
    "def my_function():\n",
    "    x = 10  # 'C' is in the local scope of my_function\n",
    "    print(x)  # Output: 10\n",
    "\n",
    "my_function()\n",
    "print(x)  \n",
    "\n"
   ]
  }
 ],
 "metadata": {
  "kernelspec": {
   "display_name": "Python 3",
   "language": "python",
   "name": "python3"
  },
  "language_info": {
   "codemirror_mode": {
    "name": "ipython",
    "version": 3
   },
   "file_extension": ".py",
   "mimetype": "text/x-python",
   "name": "python",
   "nbconvert_exporter": "python",
   "pygments_lexer": "ipython3",
   "version": "3.13.0"
  }
 },
 "nbformat": 4,
 "nbformat_minor": 5
}
