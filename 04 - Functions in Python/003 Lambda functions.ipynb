{
 "cells": [
  {
   "cell_type": "markdown",
   "id": "e9db9ef4",
   "metadata": {},
   "source": [
    "### Python Lambda Functions\n",
    "In Python, a **lambda function** is a small anonymous function that can have any number of arguments but only one expression. It is written using the `lambda` keyword.\n",
    "##### Syntax:\n",
    "lambda arguments: expression\n",
    "arguments: The parameters you want to pass to the function.\n",
    "expression: The single expression the function evaluates and returns."
   ]
  },
  {
   "cell_type": "code",
   "execution_count": null,
   "id": "d75007e3",
   "metadata": {},
   "outputs": [
    {
     "name": "stdout",
     "output_type": "stream",
     "text": [
      "8\n"
     ]
    }
   ],
   "source": [
    "add = lambda x, y: x + y\n",
    "print(add(5, 3))"
   ]
  },
  {
   "cell_type": "code",
   "execution_count": null,
   "id": "50b83a05",
   "metadata": {},
   "outputs": [
    {
     "name": "stdout",
     "output_type": "stream",
     "text": [
      "16\n"
     ]
    }
   ],
   "source": [
    "square = lambda x: x ** 2\n",
    "print(square(4)) \n"
   ]
  },
  {
   "cell_type": "code",
   "execution_count": null,
   "id": "4e5cc10a",
   "metadata": {},
   "outputs": [
    {
     "name": "stdout",
     "output_type": "stream",
     "text": [
      "[2, 4]\n"
     ]
    }
   ],
   "source": [
    "numbers = [1, 2, 3, 4, 5]\n",
    "\n",
    "# Using filter to get even numbers\n",
    "even_numbers = list(filter(lambda x: x % 2 == 0, numbers))\n",
    "print(even_numbers)  \n"
   ]
  },
  {
   "cell_type": "code",
   "execution_count": null,
   "id": "3bce19cb",
   "metadata": {},
   "outputs": [
    {
     "name": "stdout",
     "output_type": "stream",
     "text": [
      "[2, 6, 10]\n"
     ]
    }
   ],
   "source": [
    "numbers = [1, 2, 3, 4, 5]\n",
    "# Filter odd numbers, then double them\n",
    "odd_doubled = list(map(lambda x: x * 2, filter(lambda x: x % 2 != 0, numbers)))\n",
    "print(odd_doubled) "
   ]
  }
 ],
 "metadata": {
  "kernelspec": {
   "display_name": "Python 3",
   "language": "python",
   "name": "python3"
  },
  "language_info": {
   "codemirror_mode": {
    "name": "ipython",
    "version": 3
   },
   "file_extension": ".py",
   "mimetype": "text/x-python",
   "name": "python",
   "nbconvert_exporter": "python",
   "pygments_lexer": "ipython3",
   "version": "3.13.0"
  }
 },
 "nbformat": 4,
 "nbformat_minor": 5
}
