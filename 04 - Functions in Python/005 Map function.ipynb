{
 "cells": [
  {
   "cell_type": "markdown",
   "id": "c63d7764",
   "metadata": {},
   "source": [
    "## Map function\n",
    "The map() function is used to apply a given function to every item of an iterable, such as a list or tuple, and returns a map object (which is an iterator).\n",
    "\n",
    "### \n",
    "Syntax\n",
    "map(function, iterable)\n"
   ]
  },
  {
   "cell_type": "code",
   "execution_count": 1,
   "id": "075d56ec",
   "metadata": {},
   "outputs": [
    {
     "name": "stdout",
     "output_type": "stream",
     "text": [
      "[1, 2, 3, 4]\n"
     ]
    }
   ],
   "source": [
    "s = ['1', '2', '3', '4']\n",
    "res = map(int, s)\n",
    "print(list(res))"
   ]
  },
  {
   "cell_type": "code",
   "execution_count": 2,
   "id": "e80768bd",
   "metadata": {},
   "outputs": [
    {
     "name": "stdout",
     "output_type": "stream",
     "text": [
      "[2, 4, 6, 8]\n"
     ]
    }
   ],
   "source": [
    "a = [1, 2, 3, 4]\n",
    "\n",
    "# Using custom function in \"function\" parameter\n",
    "# This function is simply doubles the provided number\n",
    "def double(val):\n",
    "  return val*2\n",
    "\n",
    "res = list(map(double, a))\n",
    "print(res)"
   ]
  },
  {
   "cell_type": "code",
   "execution_count": 3,
   "id": "0369227c",
   "metadata": {},
   "outputs": [
    {
     "name": "stdout",
     "output_type": "stream",
     "text": [
      "[2, 4, 6, 8]\n"
     ]
    }
   ],
   "source": [
    "a = [1, 2, 3, 4]\n",
    "\n",
    "# Using lambda function in \"function\" parameter\n",
    "# to double each number in the list\n",
    "res = list(map(lambda x: x * 2, a))\n",
    "print(res)"
   ]
  },
  {
   "cell_type": "code",
   "execution_count": 4,
   "id": "9ad293b3",
   "metadata": {},
   "outputs": [
    {
     "name": "stdout",
     "output_type": "stream",
     "text": [
      "[5, 7, 9]\n"
     ]
    }
   ],
   "source": [
    "a = [1, 2, 3]\n",
    "b = [4, 5, 6]\n",
    "res = map(lambda x, y: x + y, a, b)\n",
    "print(list(res))"
   ]
  },
  {
   "cell_type": "code",
   "execution_count": 5,
   "id": "15abbb69",
   "metadata": {},
   "outputs": [
    {
     "name": "stdout",
     "output_type": "stream",
     "text": [
      "['APPLE', 'BANANA', 'CHERRY']\n"
     ]
    }
   ],
   "source": [
    "fruits = ['apple', 'banana', 'cherry']\n",
    "res = map(str.upper, fruits)\n",
    "print(list(res))"
   ]
  },
  {
   "cell_type": "code",
   "execution_count": 6,
   "id": "1b60672c",
   "metadata": {},
   "outputs": [
    {
     "name": "stdout",
     "output_type": "stream",
     "text": [
      "['a', 'b', 'c']\n"
     ]
    }
   ],
   "source": [
    "words = ['apple', 'banana', 'cherry']\n",
    "res = map(lambda s: s[0], words)\n",
    "print(list(res))"
   ]
  },
  {
   "cell_type": "code",
   "execution_count": 7,
   "id": "b7ccee35",
   "metadata": {},
   "outputs": [
    {
     "name": "stdout",
     "output_type": "stream",
     "text": [
      "['hello', 'world', 'python']\n"
     ]
    }
   ],
   "source": [
    "s = ['  hello  ', '  world ', ' python  ']\n",
    "res = map(str.strip, s)\n",
    "print(list(res))"
   ]
  },
  {
   "cell_type": "code",
   "execution_count": 8,
   "id": "dfb0c486",
   "metadata": {},
   "outputs": [
    {
     "name": "stdout",
     "output_type": "stream",
     "text": [
      "[32.0, 68.0, 98.6, 212.0]\n"
     ]
    }
   ],
   "source": [
    "celsius = [0, 20, 37, 100]\n",
    "fahrenheit = map(lambda c: (c * 9/5) + 32, celsius)\n",
    "print(list(fahrenheit))"
   ]
  }
 ],
 "metadata": {
  "kernelspec": {
   "display_name": "Python 3",
   "language": "python",
   "name": "python3"
  },
  "language_info": {
   "codemirror_mode": {
    "name": "ipython",
    "version": 3
   },
   "file_extension": ".py",
   "mimetype": "text/x-python",
   "name": "python",
   "nbconvert_exporter": "python",
   "pygments_lexer": "ipython3",
   "version": "3.13.0"
  }
 },
 "nbformat": 4,
 "nbformat_minor": 5
}
