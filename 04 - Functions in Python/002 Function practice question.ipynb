{
 "cells": [
  {
   "cell_type": "markdown",
   "id": "766cd278",
   "metadata": {},
   "source": [
    "# Functions Examples\n",
    "\n",
    "## Temperature Conversion\n",
    "\n",
    "\n"
   ]
  },
  {
   "cell_type": "code",
   "execution_count": 2,
   "id": "680b6198",
   "metadata": {},
   "outputs": [
    {
     "name": "stdout",
     "output_type": "stream",
     "text": [
      "77.0\n",
      "25.0\n"
     ]
    }
   ],
   "source": [
    "def convert_temp(temp,unit):\n",
    "    if unit == 'C':\n",
    "        return temp * 9/5 +32 #celcius to fahrenheit\n",
    "    elif unit =='F':\n",
    "        return (temp-32)*5/9\n",
    "    else:\n",
    "        return None\n",
    "    \n",
    "print(convert_temp(25,'C'))\n",
    "print(convert_temp(77,'F'))"
   ]
  },
  {
   "cell_type": "markdown",
   "id": "95540856",
   "metadata": {},
   "source": [
    "## Password Strength Checker\n",
    "\n"
   ]
  },
  {
   "cell_type": "code",
   "execution_count": 5,
   "id": "4bb3b0da",
   "metadata": {},
   "outputs": [
    {
     "name": "stdout",
     "output_type": "stream",
     "text": [
      "True\n",
      "False\n"
     ]
    }
   ],
   "source": [
    "def is_strong_pwd (password):\n",
    "    if len(password)<8:\n",
    "        return False\n",
    "    if not any(char.isdigit() for char in password):\n",
    "        return False\n",
    "    if not any(char.islower() for char in password):\n",
    "        return False\n",
    "    if not any(char.isupper() for char in password):\n",
    "        return False\n",
    "    if not any(char in '!@#$%^&*()_+' for char in password):\n",
    "        return False\n",
    "    return True\n",
    "\n",
    "# calling the function\n",
    "print(is_strong_pwd('Asdf1234!'))\n",
    "print(is_strong_pwd('weakpwd'))\n",
    "    "
   ]
  },
  {
   "cell_type": "markdown",
   "id": "ff0bb216",
   "metadata": {},
   "source": [
    "## Total cost of items in a cart"
   ]
  },
  {
   "cell_type": "code",
   "execution_count": 6,
   "id": "beeea5a3",
   "metadata": {},
   "outputs": [
    {
     "name": "stdout",
     "output_type": "stream",
     "text": [
      "5.4\n"
     ]
    }
   ],
   "source": [
    "def cal_total_cost(cart):\n",
    "    total_cost=0\n",
    "    for item in cart:\n",
    "        total_cost+=item['price']*item['quantity']\n",
    "    return total_cost\n",
    "\n",
    "cart = [\n",
    "    {'name': 'apple', 'price': 0.2, 'quantity': 4},\n",
    "    {'name': 'banana', 'price': 0.1, 'quantity': 6},\n",
    "    {'name': 'milk', 'price': 1.5, 'quantity': 2},\n",
    "    {'name': 'bread', 'price': 1.0, 'quantity': 1}\n",
    "]\n",
    "# calling the function\n",
    "total_cost= cal_total_cost(cart)\n",
    "print(total_cost)"
   ]
  },
  {
   "cell_type": "markdown",
   "id": "7dde5b2b",
   "metadata": {},
   "source": [
    "## If number is palindrome or not\n"
   ]
  },
  {
   "cell_type": "code",
   "execution_count": 8,
   "id": "469e8c39",
   "metadata": {},
   "outputs": [
    {
     "name": "stdout",
     "output_type": "stream",
     "text": [
      "54 is not a palindrome.\n"
     ]
    }
   ],
   "source": [
    "def is_palindrome(num):\n",
    "    original_num = str(num)\n",
    "    reversed_num = original_num[::-1]  # Reverses the string\n",
    "    \n",
    "    return original_num == reversed_num\n",
    "\n",
    "# Input from user\n",
    "num = int(input(\"Enter a number: \"))\n",
    "\n",
    "# Check and print result\n",
    "if is_palindrome(num):\n",
    "    print(f\"{num} is a palindrome.\")\n",
    "else:\n",
    "    print(f\"{num} is not a palindrome.\")\n"
   ]
  },
  {
   "cell_type": "markdown",
   "id": "bb411dff",
   "metadata": {},
   "source": [
    "## If string is palindrome or not"
   ]
  },
  {
   "cell_type": "code",
   "execution_count": 11,
   "id": "fec5e5b1",
   "metadata": {},
   "outputs": [
    {
     "name": "stdout",
     "output_type": "stream",
     "text": [
      "True\n",
      "False\n"
     ]
    }
   ],
   "source": [
    "def is_palindrome(s):\n",
    "    s=s.lower().replace(\" \",\"\")\n",
    "    return s==s[::-1]\n",
    "print(is_palindrome('a man a plan a canal panama'))\n",
    "print(is_palindrome('chill'))"
   ]
  },
  {
   "cell_type": "markdown",
   "id": "065db251",
   "metadata": {},
   "source": [
    "## Factorial of a number using recursive function"
   ]
  },
  {
   "cell_type": "code",
   "execution_count": 12,
   "id": "aa81e4dc",
   "metadata": {},
   "outputs": [
    {
     "name": "stdout",
     "output_type": "stream",
     "text": [
      "Factorial of 5 is 120\n"
     ]
    }
   ],
   "source": [
    "def factorial(n):\n",
    "    if n == 0 or n == 1:\n",
    "        return 1\n",
    "    else:\n",
    "        return n * factorial(n - 1)\n",
    "\n",
    "# Example usage\n",
    "num = 5\n",
    "print(f\"Factorial of {num} is {factorial(num)}\")\n"
   ]
  }
 ],
 "metadata": {
  "kernelspec": {
   "display_name": "Python 3",
   "language": "python",
   "name": "python3"
  },
  "language_info": {
   "codemirror_mode": {
    "name": "ipython",
    "version": 3
   },
   "file_extension": ".py",
   "mimetype": "text/x-python",
   "name": "python",
   "nbconvert_exporter": "python",
   "pygments_lexer": "ipython3",
   "version": "3.13.0"
  }
 },
 "nbformat": 4,
 "nbformat_minor": 5
}
