{
 "cells": [
  {
   "cell_type": "markdown",
   "id": "ff59c846",
   "metadata": {},
   "source": [
    "## Filter() function in python\n",
    "\n",
    "the filter() function constructs an iterator from elements of an iterable for which a function returns true. It is used to flter out items from a list (or any other interable) based on a condition."
   ]
  },
  {
   "cell_type": "code",
   "execution_count": null,
   "id": "024d5292",
   "metadata": {},
   "outputs": [
    {
     "data": {
      "text/plain": [
       "True"
      ]
     },
     "execution_count": 15,
     "metadata": {},
     "output_type": "execute_result"
    }
   ],
   "source": [
    "def even(num):\n",
    "    if num%2==0:\n",
    "        return True\n",
    "    "
   ]
  },
  {
   "cell_type": "code",
   "execution_count": null,
   "id": "10031894",
   "metadata": {},
   "outputs": [
    {
     "data": {
      "text/plain": [
       "True"
      ]
     },
     "execution_count": 3,
     "metadata": {},
     "output_type": "execute_result"
    }
   ],
   "source": [
    "even(24)"
   ]
  },
  {
   "cell_type": "code",
   "execution_count": 11,
   "id": "bddc0ec3",
   "metadata": {},
   "outputs": [
    {
     "data": {
      "text/plain": [
       "[2, 4, 6, 8, 10, 12]"
      ]
     },
     "execution_count": 11,
     "metadata": {},
     "output_type": "execute_result"
    }
   ],
   "source": [
    "lst=[1,2,3,4,5,6,7,8,9,10,11,12]\n",
    "\n",
    "list(filter(even,lst))"
   ]
  },
  {
   "cell_type": "code",
   "execution_count": 12,
   "id": "c7e0c839",
   "metadata": {},
   "outputs": [
    {
     "name": "stdout",
     "output_type": "stream",
     "text": [
      "[6, 7, 8, 9]\n"
     ]
    }
   ],
   "source": [
    "# filter with a lambda function\n",
    "numbers = [1,2,3,4,5,6,7,8,9]\n",
    "greater = list(filter(lambda x:x>5,numbers))\n",
    "print(greater)"
   ]
  },
  {
   "cell_type": "code",
   "execution_count": 13,
   "id": "dde46e07",
   "metadata": {},
   "outputs": [
    {
     "name": "stdout",
     "output_type": "stream",
     "text": [
      "[6, 8]\n"
     ]
    }
   ],
   "source": [
    "# filter with a lambda function and multiple conditions\n",
    "numbers=[1,2,3,4,5,6,7,8,9]\n",
    "even_greater=list(filter(lambda x:x>5 and x%2==0, numbers))\n",
    "print(even_greater)"
   ]
  },
  {
   "cell_type": "code",
   "execution_count": 14,
   "id": "fa8cd3ff",
   "metadata": {},
   "outputs": [
    {
     "data": {
      "text/plain": [
       "[{'name': 'Samrat', 'age': 32}, {'name': 'Jack', 'age': 33}]"
      ]
     },
     "execution_count": 14,
     "metadata": {},
     "output_type": "execute_result"
    }
   ],
   "source": [
    "# filter() to check if the age is greater than 25 in dictinaries\n",
    "people=[\n",
    "    {'name':'Samrat','age':32},\n",
    "    {'name':'Jack','age':33},\n",
    "    {'name':'Kohn','age':23}\n",
    "        ]\n",
    "def great_25(person):\n",
    "    return person['age']>25\n",
    "list(filter(great_25,people))"
   ]
  }
 ],
 "metadata": {
  "kernelspec": {
   "display_name": "Python 3",
   "language": "python",
   "name": "python3"
  },
  "language_info": {
   "codemirror_mode": {
    "name": "ipython",
    "version": 3
   },
   "file_extension": ".py",
   "mimetype": "text/x-python",
   "name": "python",
   "nbconvert_exporter": "python",
   "pygments_lexer": "ipython3",
   "version": "3.13.0"
  }
 },
 "nbformat": 4,
 "nbformat_minor": 5
}
