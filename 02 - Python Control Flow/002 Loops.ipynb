{
 "cells": [
  {
   "cell_type": "markdown",
   "id": "af5be682",
   "metadata": {
    "id": "af5be682"
   },
   "source": [
    "# Python Loops\n",
    "## Topics Covered:\n",
    "- For Loop\n",
    "  - Iterating over `range()`\n",
    "  - Iterating over strings\n",
    "- While Loop\n",
    "- Loop Control Statements\n",
    "  - `break`\n",
    "  - `continue`\n",
    "  - `pass`\n",
    "- Nested Loops\n",
    "- Practical Examples"
   ]
  },
  {
   "cell_type": "markdown",
   "id": "6cd2925f",
   "metadata": {
    "id": "6cd2925f"
   },
   "source": [
    "### Loops allow repetitive execution of code blocks.\n",
    "\n",
    "### `for` loop:\n",
    "The `for` loop is used when you know the number of times you want to iterate.\n",
    "#### Syntax:\n",
    "```python\n",
    "for variable in sequence:\n",
    "    # code to execute\n",
    "```"
   ]
  },
  {
   "cell_type": "markdown",
   "id": "b79ba968",
   "metadata": {
    "id": "b79ba968"
   },
   "source": [
    "# Loop through a list"
   ]
  },
  {
   "cell_type": "code",
   "execution_count": null,
   "id": "dd6d37c4",
   "metadata": {
    "id": "dd6d37c4",
    "outputId": "85b56844-5412-460e-9cee-3cdf9170dd48"
   },
   "outputs": [
    {
     "name": "stdout",
     "output_type": "stream",
     "text": [
      "apple\n",
      "banana\n",
      "cherry\n"
     ]
    }
   ],
   "source": [
    "# Loop through a list\n",
    "fruits = [\"apple\", \"banana\", \"cherry\"]\n",
    "for fruit in fruits:\n",
    "    print(fruit)"
   ]
  },
  {
   "cell_type": "markdown",
   "id": "c7efccec",
   "metadata": {
    "id": "c7efccec"
   },
   "source": [
    "# Loop through a range"
   ]
  },
  {
   "cell_type": "code",
   "execution_count": 1,
   "id": "dc123adf",
   "metadata": {
    "id": "dc123adf"
   },
   "outputs": [
    {
     "name": "stdout",
     "output_type": "stream",
     "text": [
      "0\n",
      "1\n",
      "2\n",
      "3\n",
      "4\n"
     ]
    }
   ],
   "source": [
    "# Loop through a range\n",
    "for i in range(5):  # i takes values 0, 1, 2, 3, 4\n",
    "    print(i)"
   ]
  },
  {
   "cell_type": "markdown",
   "id": "beb8f439",
   "metadata": {
    "id": "beb8f439"
   },
   "source": [
    "## The `range()` Function\n",
    "---\n",
    "In Python, the `range()` function is used to generate a sequence of numbers. It’s particularly useful in loops and other scenarios where you need to iterate through a series of numbers."
   ]
  },
  {
   "cell_type": "code",
   "execution_count": null,
   "id": "19f85a95",
   "metadata": {
    "id": "19f85a95",
    "outputId": "d930fb3f-3b58-4446-cc3d-55555318f449"
   },
   "outputs": [
    {
     "name": "stdout",
     "output_type": "stream",
     "text": [
      "0\n",
      "1\n",
      "2\n",
      "3\n",
      "4\n"
     ]
    }
   ],
   "source": [
    "\n",
    "# Syntax: range(start, stop, step)\n",
    "# Examples of range()\n",
    "\n",
    "# Basic Usage\n",
    "for i in range(5):\n",
    "    print(i)\n",
    "\n"
   ]
  },
  {
   "cell_type": "code",
   "execution_count": null,
   "id": "ee9d90fb",
   "metadata": {
    "id": "ee9d90fb",
    "outputId": "5097a038-a25f-4e1d-ca1d-52e019232194"
   },
   "outputs": [
    {
     "name": "stdout",
     "output_type": "stream",
     "text": [
      "2\n",
      "3\n",
      "4\n",
      "5\n"
     ]
    }
   ],
   "source": [
    "# Specifying Start and Stop\n",
    "for i in range(2, 6):\n",
    "    print(i)\n",
    "\n"
   ]
  },
  {
   "cell_type": "code",
   "execution_count": null,
   "id": "7b27351e",
   "metadata": {
    "id": "7b27351e",
    "outputId": "90686530-b8b8-4d89-89ca-9322d68a354f"
   },
   "outputs": [
    {
     "name": "stdout",
     "output_type": "stream",
     "text": [
      "1\n",
      "3\n",
      "5\n",
      "7\n",
      "9\n"
     ]
    }
   ],
   "source": [
    "# Using a Step Value\n",
    "for i in range(1, 10, 2):\n",
    "    print(i)\n",
    "\n"
   ]
  },
  {
   "cell_type": "code",
   "execution_count": null,
   "id": "dc331d0f",
   "metadata": {
    "id": "dc331d0f",
    "outputId": "303600aa-9e4b-4d7c-9b3b-2d2693c3a29c"
   },
   "outputs": [
    {
     "name": "stdout",
     "output_type": "stream",
     "text": [
      "10\n",
      "9\n",
      "8\n",
      "7\n",
      "6\n",
      "5\n",
      "4\n",
      "3\n",
      "2\n",
      "1\n"
     ]
    }
   ],
   "source": [
    "# Negative Step\n",
    "for i in range(10, 0, -1):\n",
    "    print(i)\n"
   ]
  },
  {
   "cell_type": "code",
   "execution_count": null,
   "id": "49d2122d",
   "metadata": {
    "id": "49d2122d",
    "outputId": "345a453c-9825-46e7-a475-a67c60b90999"
   },
   "outputs": [
    {
     "name": "stdout",
     "output_type": "stream",
     "text": [
      "[0, 1, 2, 3, 4]\n"
     ]
    }
   ],
   "source": [
    "# Converting to List\n",
    "numbers = list(range(5))\n",
    "print(numbers)\n"
   ]
  },
  {
   "cell_type": "code",
   "execution_count": null,
   "id": "3b7c9cdd",
   "metadata": {
    "id": "3b7c9cdd",
    "outputId": "9e447712-f28c-4760-dba4-a75f859599b5"
   },
   "outputs": [
    {
     "name": "stdout",
     "output_type": "stream",
     "text": [
      "5\n",
      "4\n",
      "3\n",
      "2\n",
      "1\n"
     ]
    }
   ],
   "source": [
    "# Iterating Backwards\n",
    "for i in range(5, 0, -1):\n",
    "    print(i)\n"
   ]
  },
  {
   "cell_type": "markdown",
   "id": "3b04b3c6",
   "metadata": {
    "id": "3b04b3c6"
   },
   "source": [
    "# Loop through a string"
   ]
  },
  {
   "cell_type": "code",
   "execution_count": null,
   "id": "da9a7a0f",
   "metadata": {
    "id": "da9a7a0f",
    "outputId": "530df1f0-3e10-4c9e-baa4-bfd049cb8041"
   },
   "outputs": [
    {
     "name": "stdout",
     "output_type": "stream",
     "text": [
      "P\n",
      "y\n",
      "t\n",
      "h\n",
      "o\n",
      "n\n"
     ]
    }
   ],
   "source": [
    "# Loop through a string\n",
    "for chars in \"Python\":\n",
    "    print(chars)"
   ]
  },
  {
   "cell_type": "markdown",
   "id": "d4f80866",
   "metadata": {
    "id": "d4f80866"
   },
   "source": [
    "# Iterating Over a Dictionary"
   ]
  },
  {
   "cell_type": "code",
   "execution_count": null,
   "id": "671cc465",
   "metadata": {
    "id": "671cc465",
    "outputId": "db13f051-1033-4c14-c4b0-9e07f8b74e9c"
   },
   "outputs": [
    {
     "name": "stdout",
     "output_type": "stream",
     "text": [
      "name: Alice\n",
      "age: 21\n",
      "grade: A\n"
     ]
    }
   ],
   "source": [
    "\n",
    "# Iterating Over a Dictionary\n",
    "student = {\"name\": \"Alice\", \"age\": 21, \"grade\": \"A\"}\n",
    "for key, value in student.items():\n",
    "    print(f\"{key}: {value}\")\n",
    "\n"
   ]
  },
  {
   "cell_type": "code",
   "execution_count": null,
   "id": "c857642a",
   "metadata": {
    "id": "c857642a",
    "outputId": "4a8bf72d-500c-4dc0-b0ac-25725d8f3493"
   },
   "outputs": [
    {
     "name": "stdout",
     "output_type": "stream",
     "text": [
      "0\n",
      "1\n",
      "2\n",
      "3\n",
      "4\n"
     ]
    }
   ],
   "source": [
    "# Using break to Exit a Loop\n",
    "for num in range(10):\n",
    "    if num == 5:\n",
    "        break\n",
    "    print(num)\n",
    "\n"
   ]
  },
  {
   "cell_type": "code",
   "execution_count": null,
   "id": "3c92fd04",
   "metadata": {
    "id": "3c92fd04",
    "outputId": "ae361b14-5042-4ee8-931b-b78a4c388410"
   },
   "outputs": [
    {
     "name": "stdout",
     "output_type": "stream",
     "text": [
      "0\n",
      "1\n",
      "3\n",
      "4\n"
     ]
    }
   ],
   "source": [
    "\n",
    "# Using continue to Skip an Iteration\n",
    "for num in range(5):\n",
    "    if num == 2:\n",
    "        continue\n",
    "    print(num)\n"
   ]
  },
  {
   "cell_type": "markdown",
   "id": "80d0203e",
   "metadata": {
    "id": "80d0203e"
   },
   "source": [
    "\n",
    "### `while` loop:\n",
    "The `while` loop is used when the number of iterations is unknown and depends on a condition.\n",
    "#### Syntax:\n",
    "```python\n",
    "while condition:\n",
    "    # code to execute\n",
    "```"
   ]
  },
  {
   "cell_type": "code",
   "execution_count": null,
   "id": "fb727626",
   "metadata": {
    "id": "fb727626",
    "outputId": "8f889b05-63a5-4f83-e102-399b43f70ad7"
   },
   "outputs": [
    {
     "name": "stdout",
     "output_type": "stream",
     "text": [
      "1\n",
      "2\n",
      "3\n",
      "4\n",
      "5\n"
     ]
    }
   ],
   "source": [
    "# Print numbers from 1 to 5\n",
    "num = 1\n",
    "while num <= 5:\n",
    "    print(num)\n",
    "    num += 1  # Increment to avoid infinite loop"
   ]
  },
  {
   "cell_type": "markdown",
   "id": "a0d3a6b2",
   "metadata": {
    "id": "a0d3a6b2"
   },
   "source": [
    "### Control Keywords: `break` and `continue`and `pass`\n",
    "`break` is used to exit the loop, and `continue` is used to skip the current iteration."
   ]
  },
  {
   "cell_type": "code",
   "execution_count": null,
   "id": "2c75cf73",
   "metadata": {
    "id": "2c75cf73",
    "outputId": "e25006ab-9cb7-4fe1-d96c-21c033617ede"
   },
   "outputs": [
    {
     "name": "stdout",
     "output_type": "stream",
     "text": [
      "0\n",
      "1\n",
      "2\n",
      "3\n",
      "4\n"
     ]
    }
   ],
   "source": [
    "# `break` example\n",
    "for i in range(10):\n",
    "    if i == 5:\n",
    "        break\n",
    "    print(i)  # Stops printing when i is 5"
   ]
  },
  {
   "cell_type": "code",
   "execution_count": null,
   "id": "5f6ce60a",
   "metadata": {
    "id": "5f6ce60a",
    "outputId": "5b70c456-8cb9-4934-bfbd-1c7df1189e5a"
   },
   "outputs": [
    {
     "name": "stdout",
     "output_type": "stream",
     "text": [
      "1\n",
      "3\n",
      "5\n",
      "7\n",
      "9\n"
     ]
    }
   ],
   "source": [
    "# `continue` example\n",
    "for i in range(10):\n",
    "    if i % 2 == 0:\n",
    "        continue  # Skip even numbers\n",
    "    print(i)"
   ]
  },
  {
   "cell_type": "code",
   "execution_count": null,
   "id": "ca62243f",
   "metadata": {
    "id": "ca62243f"
   },
   "outputs": [],
   "source": [
    "# `pass` example\n",
    "for i in range(3):\n",
    "    pass  # Loop __exists without doing anything"
   ]
  },
  {
   "cell_type": "markdown",
   "id": "701a2d71",
   "metadata": {
    "id": "701a2d71"
   },
   "source": [
    "## 4. Nested Loops\n",
    "You can nest one loop inside another."
   ]
  },
  {
   "cell_type": "code",
   "execution_count": null,
   "id": "8c90283d",
   "metadata": {
    "id": "8c90283d",
    "outputId": "94482548-f0f9-428d-c8bc-cac459c669b5"
   },
   "outputs": [
    {
     "name": "stdout",
     "output_type": "stream",
     "text": [
      "i: 0, j: 0\n",
      "i: 0, j: 1\n",
      "i: 1, j: 0\n",
      "i: 1, j: 1\n",
      "i: 2, j: 0\n",
      "i: 2, j: 1\n"
     ]
    }
   ],
   "source": [
    "for i in range(3):\n",
    "    for j in range(2):\n",
    "        print(f\"i: {i}, j: {j}\")"
   ]
  },
  {
   "cell_type": "markdown",
   "id": "531ea92d",
   "metadata": {
    "id": "531ea92d"
   },
   "source": [
    "## 5. Loop with `else` Block\n",
    "An `else` block executes only if the loop completes normally (i.e., without `break`)."
   ]
  },
  {
   "cell_type": "code",
   "execution_count": null,
   "id": "3c1abc11",
   "metadata": {
    "id": "3c1abc11",
    "outputId": "8306d94c-1887-43a2-9c32-6dd4b30a9561"
   },
   "outputs": [
    {
     "name": "stdout",
     "output_type": "stream",
     "text": [
      "0\n",
      "1\n",
      "2\n"
     ]
    }
   ],
   "source": [
    "for i in range(4):\n",
    "    if i == 3:\n",
    "        break\n",
    "    print(i)\n",
    "else:\n",
    "    print(\"Loop completed without break.\")  # This won't print"
   ]
  },
  {
   "cell_type": "markdown",
   "id": "b1af443f",
   "metadata": {
    "id": "b1af443f"
   },
   "source": [
    "\n",
    "### Comparison: `for` Loop vs `while` Loop\n",
    "\n",
    "| Feature         | `for` Loop               | `while` Loop         |\n",
    "|------------------|--------------------------|-----------------------|\n",
    "| **Use Case**     | Iterating over sequences | Repeating based on condition |\n",
    "| **Termination**  | Ends after all items are processed | Ends when the condition becomes `False` |\n",
    "| **Control Flow** | Can use `break` and `continue` | Can use `break` and `continue` |\n"
   ]
  },
  {
   "cell_type": "markdown",
   "id": "148ca7be",
   "metadata": {
    "id": "148ca7be"
   },
   "source": [
    "\n",
    "### 1. **Basic for Loop**\n",
    "- Write a for loop to print numbers from 1 to 10.\n",
    "- Modify the loop to print only even numbers."
   ]
  },
  {
   "cell_type": "markdown",
   "id": "6f3a583a",
   "metadata": {
    "id": "6f3a583a"
   },
   "source": []
  },
  {
   "cell_type": "code",
   "execution_count": null,
   "id": "69e063a6",
   "metadata": {
    "id": "69e063a6",
    "outputId": "8569a169-3932-4886-fe46-eae880b03235"
   },
   "outputs": [
    {
     "name": "stdout",
     "output_type": "stream",
     "text": [
      "2\n",
      "4\n",
      "6\n",
      "8\n",
      "10\n"
     ]
    }
   ],
   "source": [
    "# Loop to print only even numbers from 1 to 10\n",
    "for i in range(1, 11):\n",
    "    if i % 2 == 0:\n",
    "        print(i)\n"
   ]
  },
  {
   "cell_type": "code",
   "execution_count": null,
   "id": "0995d5eb",
   "metadata": {
    "id": "0995d5eb",
    "outputId": "3e1d0412-9209-4d49-fd81-23d8bf2da4b4"
   },
   "outputs": [
    {
     "name": "stdout",
     "output_type": "stream",
     "text": [
      "Sum of numbers from 1 to 100: 5050\n"
     ]
    }
   ],
   "source": [
    "# Using a for loop to calculate the sum of numbers from 1 to 100\n",
    "total_sum = 0\n",
    "for i in range(1, 101):  # Range is from 1 to 100\n",
    "    total_sum += i\n",
    "\n",
    "print(\"Sum of numbers from 1 to 100:\", total_sum)"
   ]
  },
  {
   "cell_type": "code",
   "execution_count": null,
   "id": "f56cd32e",
   "metadata": {
    "id": "f56cd32e",
    "outputId": "e6ed17c6-5a9c-4491-b085-161b4b7cf7c8"
   },
   "outputs": [
    {
     "name": "stdout",
     "output_type": "stream",
     "text": [
      "Sum of all odd numbers between 1 and 50: 625\n"
     ]
    }
   ],
   "source": [
    "# Using a while loop to calculate the sum of all odd numbers between 1 and 50\n",
    "odd_sum = 0\n",
    "i = 1  # Start from 1, which is the first odd number\n",
    "\n",
    "while i <= 50:\n",
    "    if i % 2 != 0:  # Check if the number is odd\n",
    "        odd_sum += i  # Add the odd number to the sum\n",
    "    i += 1  # Increment i to check the next number\n",
    "\n",
    "print(\"Sum of all odd numbers between 1 and 50:\", odd_sum)\n"
   ]
  },
  {
   "cell_type": "code",
   "execution_count": null,
   "id": "949f2318",
   "metadata": {
    "id": "949f2318",
    "outputId": "192bab81-325a-43bb-b41e-e586c31df2c0"
   },
   "outputs": [
    {
     "name": "stdout",
     "output_type": "stream",
     "text": [
      "Welcome to the Number Guessing Game!\n",
      "Too low!\n",
      "Too low!\n",
      "Too low!\n",
      "Sorry, the correct number was 10.\n"
     ]
    }
   ],
   "source": [
    "#number Quessing Game\n",
    "import random\n",
    "\n",
    "# Step 1: Welcome message\n",
    "print(\"Welcome to the Number Guessing Game!\")\n",
    "\n",
    "# Step 2: Generate a random number\n",
    "number_to_guess = random.randint(1, 10)\n",
    "\n",
    "# Step 3: Loop for three guesses\n",
    "for attempt in range(3):  # You get 3 attempts\n",
    "    guess = int(input(\"Guess a number between 1 and 10: \"))\n",
    "    if guess == number_to_guess:\n",
    "        print(\"Congratulations! You guessed it right.\")\n",
    "        break\n",
    "    elif guess < number_to_guess:\n",
    "        print(\"Too low!\")\n",
    "    else:\n",
    "        print(\"Too high!\")\n",
    "else:\n",
    "    print(f\"Sorry, the correct number was {number_to_guess}.\")\n"
   ]
  },
  {
   "cell_type": "code",
   "execution_count": null,
   "id": "5eaef95f",
   "metadata": {
    "id": "5eaef95f"
   },
   "outputs": [],
   "source": [
    "\n",
    "\n",
    "\n",
    "# Input length and breadth as numeric values\n",
    "length, breadth = map(float, input(\"Enter length and breadth separated by space: \").split())\n",
    "\n",
    "print(f\"Length: {length}\")\n",
    "print(f\"Breadth: {breadth}\")\n"
   ]
  },
  {
   "cell_type": "code",
   "execution_count": null,
   "id": "8f2e3a3d",
   "metadata": {
    "id": "8f2e3a3d"
   },
   "outputs": [],
   "source": []
  }
 ],
 "metadata": {
  "colab": {
   "provenance": []
  },
  "kernelspec": {
   "display_name": "Python 3",
   "language": "python",
   "name": "python3"
  },
  "language_info": {
   "codemirror_mode": {
    "name": "ipython",
    "version": 3
   },
   "file_extension": ".py",
   "mimetype": "text/x-python",
   "name": "python",
   "nbconvert_exporter": "python",
   "pygments_lexer": "ipython3",
   "version": "3.13.0"
  }
 },
 "nbformat": 4,
 "nbformat_minor": 5
}
