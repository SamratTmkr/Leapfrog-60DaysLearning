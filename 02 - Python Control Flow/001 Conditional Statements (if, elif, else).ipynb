{
 "cells": [
  {
   "cell_type": "markdown",
   "id": "64ac055b",
   "metadata": {},
   "source": [
    "# Conditional Statements (`if`, `elif`, `else`)\n",
    "\n",
    "## Outline:\n",
    "\n",
    "1. **Introduction to Conditional Statements**\n",
    "2. **`if` Statement**\n",
    "3. **`else` Statement**\n",
    "4. **`elif` Statement**\n",
    "5. **Nested Conditional Statements**\n",
    "6. **Practical Examples**\n",
    "\n"
   ]
  },
  {
   "cell_type": "code",
   "execution_count": 3,
   "id": "e83445ea",
   "metadata": {},
   "outputs": [
    {
     "name": "stdout",
     "output_type": "stream",
     "text": [
      "you are eligible to vote\n"
     ]
    }
   ],
   "source": [
    "# if statement\n",
    "age = 20\n",
    "if age>=18:\n",
    "    print('you are eligible to vote')"
   ]
  },
  {
   "cell_type": "code",
   "execution_count": 4,
   "id": "4c4aa4de",
   "metadata": {},
   "outputs": [
    {
     "name": "stdout",
     "output_type": "stream",
     "text": [
      "You are a minor\n"
     ]
    }
   ],
   "source": [
    "# else\n",
    "# the else stataement executes a block of code if the condition in the if statement is false\n",
    "age = 16\n",
    "if age>=18:\n",
    "    print('you are eligible to vote')\n",
    "else:\n",
    "    print(\"You are a minor\")\n",
    "    "
   ]
  },
  {
   "cell_type": "code",
   "execution_count": 9,
   "id": "90ee77e6",
   "metadata": {},
   "outputs": [
    {
     "name": "stdout",
     "output_type": "stream",
     "text": [
      "you are an adult\n"
     ]
    }
   ],
   "source": [
    "# elif\n",
    "# the elif statement allows you to check multiple conditions. It stands for else if\n",
    "age=19\n",
    "\n",
    "if age<13:\n",
    "    print(\"you are a child\")\n",
    "elif age<18 and age>13:\n",
    "    print(\"You are a teenager\")\n",
    "else:\n",
    "    print(\"you are an adult\")"
   ]
  },
  {
   "cell_type": "code",
   "execution_count": null,
   "id": "819c57e0",
   "metadata": {},
   "outputs": [
    {
     "name": "stdout",
     "output_type": "stream",
     "text": [
      "The number is positive\n",
      "The number is even\n"
     ]
    }
   ],
   "source": [
    "# Nested conditional statements\n",
    "# you can place one or more if, elif or else statements inside another if,elif, or else statement to create nested conditional statements.\n",
    "\n",
    "# wap to check even or odd and positive or negative\n",
    "\n",
    "num = int(input(\"Enter a number\")) #6\n",
    "\n",
    "if num>0:\n",
    "    print('The number is positive')\n",
    "    if num%2==0:\n",
    "        print(\"The number is even\")\n",
    "    elif  num%2!=0:\n",
    "        print(\"The number is odd\")\n",
    "    else:\n",
    "        print(\"invalid input\")\n",
    "else:\n",
    "    print('The number is negative or negative')\n",
    "\n",
    "    "
   ]
  },
  {
   "cell_type": "code",
   "execution_count": 16,
   "id": "7007996d",
   "metadata": {},
   "outputs": [
    {
     "name": "stdout",
     "output_type": "stream",
     "text": [
      "2024 is a leap year\n"
     ]
    }
   ],
   "source": [
    "# Pratical example\n",
    "# determine if a year is leap year or not.\n",
    "year = int(input(\"Enter a number\"))\n",
    "if(year%4==0):\n",
    "    if year%100==0:\n",
    "        if year%400==0:\n",
    "            print(year, \"is a leap year\")\n",
    "        else:\n",
    "            print(year, \"is not a leap year\")\n",
    "    else:\n",
    "        print(year,\"is a leap year\")\n",
    "else:\n",
    "    print(year, \"is not a leap year\")\n"
   ]
  },
  {
   "cell_type": "code",
   "execution_count": null,
   "id": "eb4014c6",
   "metadata": {},
   "outputs": [
    {
     "name": "stdout",
     "output_type": "stream",
     "text": [
      "Welcome to the Simple Calculator!\n",
      "The result of 5.0 * 4.0 is 20.0\n"
     ]
    }
   ],
   "source": [
    "# Input from the user\n",
    "print(\"Welcome to the Simple Calculator!\")\n",
    "num1 = float(input(\"Enter the first number: \")) #5\n",
    "num2 = float(input(\"Enter the second number: \")) #4\n",
    "operation = input(\"Enter an operation (+, -, *, /): \") #8\n",
    "\n",
    "# Perform the calculation directly\n",
    "if operation == '+':\n",
    "    result = num1 + num2\n",
    "    print(f\"The result of {num1} + {num2} is {result}\")\n",
    "elif operation == '-':\n",
    "    result = num1 - num2\n",
    "    print(f\"The result of {num1} - {num2} is {result}\")\n",
    "elif operation == '*':\n",
    "    result = num1 * num2\n",
    "    print(f\"The result of {num1} * {num2} is {result}\")\n",
    "elif operation == '/':\n",
    "    if num2 != 0:\n",
    "        result = num1 / num2\n",
    "        print(f\"The result of {num1} / {num2} is {result}\")\n",
    "    else:\n",
    "        print(\"Error: Division by zero is not allowed.\")\n",
    "else:\n",
    "    print(\"Invalid operation.\")\n"
   ]
  }
 ],
 "metadata": {
  "kernelspec": {
   "display_name": "Python 3",
   "language": "python",
   "name": "python3"
  },
  "language_info": {
   "codemirror_mode": {
    "name": "ipython",
    "version": 3
   },
   "file_extension": ".py",
   "mimetype": "text/x-python",
   "name": "python",
   "nbconvert_exporter": "python",
   "pygments_lexer": "ipython3",
   "version": "3.13.0"
  }
 },
 "nbformat": 4,
 "nbformat_minor": 5
}
