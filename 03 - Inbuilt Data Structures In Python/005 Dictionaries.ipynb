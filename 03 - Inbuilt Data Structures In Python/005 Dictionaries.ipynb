{
 "cells": [
  {
   "cell_type": "markdown",
   "id": "4c24c297",
   "metadata": {},
   "source": [
    "# Dictionaries\n",
    "\n",
    "## Outline:\n",
    "1. Introduction to Dictionaries\n",
    "2. Creating Dictionaries\n",
    "3. Accessing Dictionary Elements\n",
    "4. Modifying Dictionary Elements\n",
    "5. Dictionary Methods\n",
    "6. Iterating Over Dictionaries\n",
    "7. Nested Dictionaries\n",
    "8. Dictionary Comprehensions\n",
    "9. Practical Examples and Common Errors"
   ]
  },
  {
   "cell_type": "markdown",
   "id": "cf646546",
   "metadata": {},
   "source": [
    "# Introduction to Dictionaries\n",
    "\n",
    "Dictionaries are unordered collections of items. They store data in key-value pairs. Keys must be unique and immutable (e.g., strings, numbers, or tuples), while values can be of any type."
   ]
  },
  {
   "cell_type": "code",
   "execution_count": 1,
   "id": "eac98077",
   "metadata": {},
   "outputs": [
    {
     "name": "stdout",
     "output_type": "stream",
     "text": [
      "<class 'dict'> {'name': 'Alice', 'age': 30}\n"
     ]
    }
   ],
   "source": [
    "sample = {\"name\": \"Alice\", \"age\": 30}\n",
    "print(type(sample), sample)"
   ]
  },
  {
   "cell_type": "code",
   "execution_count": null,
   "id": "37f14875",
   "metadata": {},
   "outputs": [
    {
     "name": "stdout",
     "output_type": "stream",
     "text": [
      "<class 'dict'> {'name': 'Alice', 'age': 30}\n"
     ]
    }
   ],
   "source": [
    "##  Creating Dictionaries\n",
    "sample = {\"name\": \"Alice\", \"age\": 30}\n",
    "print(type(sample), sample)\n",
    "empty = {}\n",
    "literal = {\"city\": \"Kathmandu\", \"country\": \"Nepal\"}\n",
    "using_constructor = dict(food=\"Momo\", price=200)"
   ]
  },
  {
   "cell_type": "code",
   "execution_count": null,
   "id": "25d667e5",
   "metadata": {},
   "outputs": [
    {
     "name": "stdout",
     "output_type": "stream",
     "text": [
      "{'name': 'Alice', 'age': 25}\n",
      "\n",
      "Indexing (Key Lookup) Example:\n",
      "Name: Alice\n",
      "City: New York\n"
     ]
    }
   ],
   "source": [
    "##  Accessing Dictionary Elements\n",
    "dict_example = {\"name\": \"Alice\", \"age\": 25}\n",
    "print(dict_example)\n",
    "# 1. Indexing (Key Lookup): Accessing values in the dictionary by their key\n",
    "dict_example = {\"name\": \"Alice\", \"age\": 25, \"city\": \"New York\"}\n",
    "print(\"\\nIndexing (Key Lookup) Example:\")\n",
    "print(\"Name:\", dict_example[\"name\"]) \n",
    "print(\"City:\", dict_example[\"city\"])  "
   ]
  },
  {
   "cell_type": "code",
   "execution_count": null,
   "id": "deb142da",
   "metadata": {},
   "outputs": [],
   "source": [
    "## Modifying Dictionary Elements\n",
    "dict_example = {\"name\": \"Alice\", \"age\": 25}\n",
    "dict_example[\"city\"] = \"New York\"  # Adds a new key-value pair\n",
    "print(dict_example)\n",
    "print(dict_example.get(\"age\"))      # Retrieves the value associated with a key\n",
    "print(dict_example.pop(\"age\"))      # Removes a key-value pair\n",
    "print(dict_example)"
   ]
  },
  {
   "cell_type": "code",
   "execution_count": null,
   "id": "565f35de",
   "metadata": {},
   "outputs": [
    {
     "name": "stdout",
     "output_type": "stream",
     "text": [
      "dict_keys(['name', 'age', 'city'])\n",
      "dict_values(['Alice', 25, 'New York'])\n"
     ]
    }
   ],
   "source": [
    "##  Dictionary Methods\n",
    "print(dict_example.keys())             # Returns a view of all keys\n",
    "print(dict_example.values())"
   ]
  },
  {
   "cell_type": "code",
   "execution_count": null,
   "id": "675966a1",
   "metadata": {},
   "outputs": [
    {
     "name": "stdout",
     "output_type": "stream",
     "text": [
      "\n",
      "Length Example:\n",
      "Length of the dictionary: 3\n",
      "\n",
      "Keys and Values Example:\n",
      "Keys: dict_keys(['name', 'age', 'city'])\n",
      "Values: dict_values(['Alice', 25, 'New York'])\n"
     ]
    }
   ],
   "source": [
    "# Length: Getting the number of key-value pairs in the dictionary using len()\n",
    "print(\"\\nLength Example:\")\n",
    "print(\"Length of the dictionary:\", len(dict_example))  # Output: 3\n",
    "# 3. Keys and Values: Getting all keys and all values from the dictionary\n",
    "print(\"\\nKeys and Values Example:\")\n",
    "print(\"Keys:\", dict_example.keys()) \n",
    "print(\"Values:\", dict_example.values())  "
   ]
  },
  {
   "cell_type": "code",
   "execution_count": null,
   "id": "602f6054",
   "metadata": {},
   "outputs": [
    {
     "name": "stdout",
     "output_type": "stream",
     "text": [
      "name: Alice\n",
      "age: 25\n",
      "city: New York\n"
     ]
    }
   ],
   "source": [
    "# Iterating Over Dictionaries\n",
    "dict_example = {\"name\": \"Alice\", \"age\": 25, \"city\": \"New York\"}\n",
    "for key in dict_example:\n",
    "    print(f\"{key}: {dict_example[key]}\")\n"
   ]
  },
  {
   "cell_type": "code",
   "execution_count": 18,
   "id": "f3f823be",
   "metadata": {},
   "outputs": [
    {
     "name": "stdout",
     "output_type": "stream",
     "text": [
      "Alice\n",
      "30\n"
     ]
    }
   ],
   "source": [
    "# Nested Dictionaries\n",
    "nested_dict = {\"person1\": {\"name\": \"Alice\", \"age\": 25}, \"person2\": {\"name\": \"Bob\", \"age\": 30}}\n",
    "print(nested_dict[\"person1\"][\"name\"])  \n",
    "print(nested_dict[\"person2\"][\"age\"])   "
   ]
  },
  {
   "cell_type": "code",
   "execution_count": null,
   "id": "df6296da",
   "metadata": {},
   "outputs": [
    {
     "name": "stdout",
     "output_type": "stream",
     "text": [
      "{0: 0, 1: 1, 2: 4, 3: 9, 4: 16}\n"
     ]
    }
   ],
   "source": [
    "# Dictionary Comprehensions\n",
    "squares = {x: x**2 for x in range(5)}\n",
    "print(squares) "
   ]
  },
  {
   "cell_type": "code",
   "execution_count": 20,
   "id": "8241529a",
   "metadata": {},
   "outputs": [
    {
     "name": "stdout",
     "output_type": "stream",
     "text": [
      "Updated grades: {'Alice': 85, 'Bob': 90, 'Charlie': 75, 'David': 88}\n",
      "Average grade: 84.5\n",
      "Grade for Eve: Not found\n"
     ]
    }
   ],
   "source": [
    "## 9. Practical Examples and Common Errors\n",
    "\n",
    "### Practical Example: Managing Student Grades\n",
    "students = {\"Alice\": 85, \"Bob\": 90, \"Charlie\": 75}\n",
    "# Adding a new student\n",
    "students[\"David\"] = 88\n",
    "print(\"Updated grades:\", students)\n",
    "# Finding the average grade\n",
    "average = sum(students.values()) / len(students)\n",
    "print(\"Average grade:\", average)\n",
    "# Common Error: Trying to access a non-existent key\n",
    "# print(students[\"Eve\"])  # This would raise a KeyError\n",
    "# Safe way to handle missing keys\n",
    "grade = students.get(\"Eve\", \"Not found\")\n",
    "print(\"Grade for Eve:\", grade)"
   ]
  }
 ],
 "metadata": {
  "kernelspec": {
   "display_name": "Python 3",
   "language": "python",
   "name": "python3"
  },
  "language_info": {
   "codemirror_mode": {
    "name": "ipython",
    "version": 3
   },
   "file_extension": ".py",
   "mimetype": "text/x-python",
   "name": "python",
   "nbconvert_exporter": "python",
   "pygments_lexer": "ipython3",
   "version": "3.13.0"
  }
 },
 "nbformat": 4,
 "nbformat_minor": 5
}
