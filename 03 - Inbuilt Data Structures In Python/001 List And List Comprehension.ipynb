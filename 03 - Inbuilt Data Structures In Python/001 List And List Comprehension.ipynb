{
 "cells": [
  {
   "cell_type": "markdown",
   "id": "82e7fd0f",
   "metadata": {},
   "source": [
    "# Introduction To Lists\n",
    "\n",
    "- Lists are ordered, mutable collections of items.\n",
    "- They can contain items of different data types.\n",
    "\n",
    "## Video Outline:\n",
    "\n",
    "1. Introduction to Lists  \n",
    "2. Creating Lists  \n",
    "3. Accessing List Elements  \n",
    "4. Modifying List Elements  \n",
    "5. List Methods  \n",
    "6. Slicing Lists\n",
    "7. Iterating Over Lists\n",
    "8. List Comprehensions\n",
    "9. Nested Lists\n",
    "10. Practical Examples\n"
   ]
  },
  {
   "cell_type": "code",
   "execution_count": 1,
   "id": "b1703e4b",
   "metadata": {},
   "outputs": [
    {
     "name": "stdout",
     "output_type": "stream",
     "text": [
      "<class 'list'>\n"
     ]
    }
   ],
   "source": [
    "lst=[]\n",
    "print(type(lst))"
   ]
  },
  {
   "cell_type": "code",
   "execution_count": 3,
   "id": "a3924660",
   "metadata": {},
   "outputs": [
    {
     "name": "stdout",
     "output_type": "stream",
     "text": [
      "['ram', 'shyam', 'hari', 1, 2, 3, 4]\n"
     ]
    }
   ],
   "source": [
    "names=['ram','shyam','hari',1,2,3,4]\n",
    "print(names)"
   ]
  },
  {
   "cell_type": "code",
   "execution_count": 4,
   "id": "04ebadd7",
   "metadata": {},
   "outputs": [
    {
     "name": "stdout",
     "output_type": "stream",
     "text": [
      "[1, 'Hello', 3.14, True]\n"
     ]
    }
   ],
   "source": [
    "mixed_list = [1,\"Hello\",3.14,True]\n",
    "print(mixed_list)"
   ]
  },
  {
   "cell_type": "code",
   "execution_count": 5,
   "id": "7ecfb7d1",
   "metadata": {},
   "outputs": [],
   "source": [
    "# Accessing list elements\n",
    "fruits = [\"apple\", \"banana\", \"cherry\", \"date\", \"elderberry\"]\n"
   ]
  },
  {
   "cell_type": "code",
   "execution_count": 6,
   "id": "20a48c60",
   "metadata": {},
   "outputs": [
    {
     "name": "stdout",
     "output_type": "stream",
     "text": [
      "apple\n",
      "elderberry\n",
      "elderberry\n"
     ]
    }
   ],
   "source": [
    "print(fruits[0])\n",
    "print(fruits[4])\n",
    "print(fruits[-1])"
   ]
  },
  {
   "cell_type": "code",
   "execution_count": null,
   "id": "0b062286",
   "metadata": {},
   "outputs": [
    {
     "name": "stdout",
     "output_type": "stream",
     "text": [
      "['banana', 'cherry', 'date', 'elderberry']\n",
      "['banana', 'cherry']\n",
      "[]\n"
     ]
    }
   ],
   "source": [
    "print(fruits[1:])\n",
    "print(fruits[1:3])\n",
    "print(fruits[-1:-3]) # moving forward from -1 to -3 is impossible, because -3 is before -1."
   ]
  },
  {
   "cell_type": "code",
   "execution_count": 11,
   "id": "5beaf7d8",
   "metadata": {},
   "outputs": [
    {
     "data": {
      "text/plain": [
       "['apple', 'banana', 'cherry', 'date', 'elderberry']"
      ]
     },
     "execution_count": 11,
     "metadata": {},
     "output_type": "execute_result"
    }
   ],
   "source": [
    "# modifying the list elements\n",
    "fruits"
   ]
  },
  {
   "cell_type": "code",
   "execution_count": 13,
   "id": "6f28aac0",
   "metadata": {},
   "outputs": [
    {
     "name": "stdout",
     "output_type": "stream",
     "text": [
      "['apple', 'watermelon', 'cherry', 'date', 'elderberry']\n"
     ]
    }
   ],
   "source": [
    "fruits[1]='watermelon'\n",
    "print(fruits)"
   ]
  },
  {
   "cell_type": "code",
   "execution_count": 14,
   "id": "ac56318a",
   "metadata": {},
   "outputs": [],
   "source": [
    "fruits[1:]=\"watermelon\""
   ]
  },
  {
   "cell_type": "code",
   "execution_count": 15,
   "id": "5562c44f",
   "metadata": {},
   "outputs": [
    {
     "data": {
      "text/plain": [
       "['apple', 'w', 'a', 't', 'e', 'r', 'm', 'e', 'l', 'o', 'n']"
      ]
     },
     "execution_count": 15,
     "metadata": {},
     "output_type": "execute_result"
    }
   ],
   "source": [
    "fruits"
   ]
  },
  {
   "cell_type": "code",
   "execution_count": 61,
   "id": "ff919521",
   "metadata": {},
   "outputs": [],
   "source": [
    "# List methods\n",
    "fruits = [\"apple\",\"kiwi\",\"strawberry\"]\n",
    "# Clear the list\n",
    "# fruits.clear()  # []\n",
    "\n"
   ]
  },
  {
   "cell_type": "code",
   "execution_count": 62,
   "id": "40c8a837",
   "metadata": {},
   "outputs": [
    {
     "name": "stdout",
     "output_type": "stream",
     "text": [
      "['apple', 'kiwi', 'strawberry', 'banana']\n"
     ]
    }
   ],
   "source": [
    "# Add an item to the list\n",
    "fruits.append(\"banana\") \n",
    "print(fruits)"
   ]
  },
  {
   "cell_type": "code",
   "execution_count": 63,
   "id": "12ae298e",
   "metadata": {},
   "outputs": [
    {
     "name": "stdout",
     "output_type": "stream",
     "text": [
      "['mango', 'apple', 'kiwi', 'strawberry', 'banana']\n"
     ]
    }
   ],
   "source": [
    "# Insert an item at a specific index\n",
    "fruits.insert(0, \"mango\") \n",
    "print(fruits)\n"
   ]
  },
  {
   "cell_type": "code",
   "execution_count": 64,
   "id": "2086e8bc",
   "metadata": {},
   "outputs": [
    {
     "name": "stdout",
     "output_type": "stream",
     "text": [
      "['mango', 'kiwi', 'strawberry', 'banana']\n"
     ]
    }
   ],
   "source": [
    "# Remove an item\n",
    "fruits.remove(\"apple\") \n",
    "print(fruits)\n"
   ]
  },
  {
   "cell_type": "code",
   "execution_count": 65,
   "id": "73bf3fd2",
   "metadata": {},
   "outputs": [
    {
     "name": "stdout",
     "output_type": "stream",
     "text": [
      "1\n"
     ]
    }
   ],
   "source": [
    "# Count occurrences\n",
    "count_banana = fruits.count(\"banana\")\n",
    "print(count_banana)\n"
   ]
  },
  {
   "cell_type": "code",
   "execution_count": 66,
   "id": "e7c3b943",
   "metadata": {},
   "outputs": [
    {
     "name": "stdout",
     "output_type": "stream",
     "text": [
      "['banana', 'strawberry', 'kiwi', 'mango']\n"
     ]
    }
   ],
   "source": [
    "# Reverse the list\n",
    "fruits.reverse() \n",
    "print(fruits)\n"
   ]
  },
  {
   "cell_type": "code",
   "execution_count": 67,
   "id": "ae2d6e68",
   "metadata": {},
   "outputs": [
    {
     "name": "stdout",
     "output_type": "stream",
     "text": [
      "mango\n",
      "['banana', 'strawberry', 'kiwi']\n"
     ]
    }
   ],
   "source": [
    "# Pop/removes last item\n",
    "popped = fruits.pop()\n",
    "print(popped)\n",
    "print(fruits)"
   ]
  },
  {
   "cell_type": "code",
   "execution_count": 68,
   "id": "93fa36bf",
   "metadata": {},
   "outputs": [
    {
     "name": "stdout",
     "output_type": "stream",
     "text": [
      "['banana', 'kiwi', 'strawberry']\n"
     ]
    }
   ],
   "source": [
    "# Sort the list\n",
    "fruits.sort()  \n",
    "print(fruits)"
   ]
  },
  {
   "cell_type": "code",
   "execution_count": 69,
   "id": "01ed6bd6",
   "metadata": {},
   "outputs": [
    {
     "name": "stdout",
     "output_type": "stream",
     "text": [
      "1\n"
     ]
    }
   ],
   "source": [
    "# Find index of an item\n",
    "index_mango = fruits.index(\"kiwi\")\n",
    "print(index_mango)"
   ]
  },
  {
   "cell_type": "code",
   "execution_count": 71,
   "id": "bc57f666",
   "metadata": {},
   "outputs": [
    {
     "name": "stdout",
     "output_type": "stream",
     "text": [
      "[]\n"
     ]
    }
   ],
   "source": [
    "# Clear the list\n",
    "fruits.clear() \n",
    "print(fruits)"
   ]
  },
  {
   "cell_type": "code",
   "execution_count": 73,
   "id": "7c115002",
   "metadata": {},
   "outputs": [
    {
     "name": "stdout",
     "output_type": "stream",
     "text": [
      "[3, 4, 5]\n",
      "[1, 2, 3, 4, 5]\n",
      "[6, 7, 8, 9, 10]\n",
      "[1, 3, 5, 7, 9]\n",
      "[10, 9, 8, 7, 6, 5, 4, 3, 2, 1]\n"
     ]
    }
   ],
   "source": [
    "## Slicing List\n",
    "numbers = [1, 2, 3, 4, 5, 6, 7, 8, 9, 10]\n",
    "\n",
    "print(numbers[2:5])     # Gets elements from index 2 to 4 → [3, 4, 5]\n",
    "print(numbers[:5])      # Gets the first 5 elements (index 0 to 4) → [1, 2, 3, 4, 5]\n",
    "print(numbers[5:])      # Gets elements from index 5 to end → [6, 7, 8, 9, 10]\n",
    "print(numbers[::2])     # Gets every second element → [1, 3, 5, 7, 9]\n",
    "print(numbers[::-1])    # Reverses the list → [10, 9, 8, 7, 6, 5, 4, 3, 2, 1]\n",
    "\n"
   ]
  },
  {
   "cell_type": "code",
   "execution_count": 74,
   "id": "680f6c9f",
   "metadata": {},
   "outputs": [
    {
     "name": "stdout",
     "output_type": "stream",
     "text": [
      "1\n",
      "2\n",
      "3\n",
      "4\n",
      "5\n",
      "6\n",
      "7\n",
      "8\n",
      "9\n",
      "10\n"
     ]
    }
   ],
   "source": [
    "# iterating over list\n",
    "\n",
    "for number in numbers:\n",
    "    print(number)"
   ]
  },
  {
   "cell_type": "code",
   "execution_count": 80,
   "id": "d203302f",
   "metadata": {},
   "outputs": [
    {
     "name": "stdout",
     "output_type": "stream",
     "text": [
      "0 1\n",
      "1 2\n",
      "2 3\n",
      "3 4\n",
      "4 5\n",
      "5 6\n",
      "6 7\n",
      "7 8\n",
      "8 9\n",
      "9 10\n"
     ]
    }
   ],
   "source": [
    "# iterating with index\n",
    "for index,number in enumerate(numbers):\n",
    "    print(index,number)"
   ]
  },
  {
   "cell_type": "code",
   "execution_count": 81,
   "id": "458eeb5c",
   "metadata": {},
   "outputs": [
    {
     "name": "stdout",
     "output_type": "stream",
     "text": [
      "[0, 1, 4, 9, 16, 25, 36, 49, 64, 81]\n"
     ]
    }
   ],
   "source": [
    "# list comprehension\n",
    "lst=[]\n",
    "for x in range(10):\n",
    "    lst.append(x**2)\n",
    "print(lst)"
   ]
  },
  {
   "cell_type": "code",
   "execution_count": 82,
   "id": "365d7477",
   "metadata": {},
   "outputs": [
    {
     "data": {
      "text/plain": [
       "[0, 1, 4, 9, 16, 25, 36, 49, 64, 81]"
      ]
     },
     "execution_count": 82,
     "metadata": {},
     "output_type": "execute_result"
    }
   ],
   "source": [
    "[x**2 for x in range(10)]"
   ]
  },
  {
   "cell_type": "markdown",
   "id": "249901b6",
   "metadata": {},
   "source": [
    "#### List Comprehension\n",
    "\n",
    "Basics Syantax [expression for item in iterable]\n",
    "\n",
    "with conditional logic [expression for item in iterable if condition]\n",
    "\n",
    "Nested List Comprehension [expression for item1 in iterable1 for item2 in iterable ]"
   ]
  },
  {
   "cell_type": "code",
   "execution_count": 83,
   "id": "f5ff2f70",
   "metadata": {},
   "outputs": [
    {
     "name": "stdout",
     "output_type": "stream",
     "text": [
      "[0, 1, 4, 9, 16, 25, 36, 49, 64, 81]\n"
     ]
    }
   ],
   "source": [
    "### Basic List Comprehension\n",
    "square = [num**2 for num in range(10)]\n",
    "print(square)\n"
   ]
  },
  {
   "cell_type": "code",
   "execution_count": 85,
   "id": "f767714f",
   "metadata": {},
   "outputs": [
    {
     "name": "stdout",
     "output_type": "stream",
     "text": [
      "[0, 2, 4, 6, 8]\n"
     ]
    }
   ],
   "source": [
    "# list comprehension with condition\n",
    "lst = []\n",
    "for i in range(10):\n",
    "    if i %2==0:\n",
    "        lst.append(i)\n",
    "print(lst)"
   ]
  },
  {
   "cell_type": "code",
   "execution_count": 86,
   "id": "c2bad98f",
   "metadata": {},
   "outputs": [
    {
     "name": "stdout",
     "output_type": "stream",
     "text": [
      "[0, 2, 4, 6, 8]\n"
     ]
    }
   ],
   "source": [
    "even_numbers=[num for num in range(10) if num%2==0]\n",
    "print(even_numbers)"
   ]
  },
  {
   "cell_type": "code",
   "execution_count": 87,
   "id": "2fe870f1",
   "metadata": {},
   "outputs": [
    {
     "name": "stdout",
     "output_type": "stream",
     "text": [
      "[[1, 'a'], [1, 'b'], [1, 'c'], [1, 'd'], [2, 'a'], [2, 'b'], [2, 'c'], [2, 'd'], [3, 'a'], [3, 'b'], [3, 'c'], [3, 'd'], [4, 'a'], [4, 'b'], [4, 'c'], [4, 'd']]\n"
     ]
    }
   ],
   "source": [
    "# nested list comprehension\n",
    "\n",
    "lst1 = [1,2,3,4]\n",
    "lst2=['a','b','c','d']\n",
    "\n",
    "pair = [[i,j] for i in lst1 for j in lst2]\n",
    "print(pair)"
   ]
  },
  {
   "cell_type": "code",
   "execution_count": 88,
   "id": "88ebc922",
   "metadata": {},
   "outputs": [
    {
     "name": "stdout",
     "output_type": "stream",
     "text": [
      "[5, 5, 6, 6, 4]\n"
     ]
    }
   ],
   "source": [
    "# list comprehension with function calls\n",
    "\n",
    "words = ['hello','world','samrat','python','list']\n",
    "lengths = [len(word) for word in words]\n",
    "print(lengths)"
   ]
  }
 ],
 "metadata": {
  "kernelspec": {
   "display_name": "Python 3",
   "language": "python",
   "name": "python3"
  },
  "language_info": {
   "codemirror_mode": {
    "name": "ipython",
    "version": 3
   },
   "file_extension": ".py",
   "mimetype": "text/x-python",
   "name": "python",
   "nbconvert_exporter": "python",
   "pygments_lexer": "ipython3",
   "version": "3.13.0"
  }
 },
 "nbformat": 4,
 "nbformat_minor": 5
}
